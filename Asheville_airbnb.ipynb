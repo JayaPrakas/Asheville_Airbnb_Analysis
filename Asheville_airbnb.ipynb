{
 "cells": [
  {
   "cell_type": "markdown",
   "metadata": {},
   "source": [
    "## Asheville Airbnb analysis\n",
    "\n",
    "*This notebook consists of analysis of airbnb data of Asheville, which consists of facilities available in properties being rented in airbnb.* \n",
    "\n",
    "*We are going to analyse it and find some insights in it.*"
   ]
  },
  {
   "cell_type": "code",
   "execution_count": 1,
   "metadata": {},
   "outputs": [],
   "source": [
    "#importing required libraries"
   ]
  },
  {
   "cell_type": "code",
   "execution_count": 2,
   "metadata": {},
   "outputs": [],
   "source": [
    "import numpy as np\n",
    "\n",
    "import pandas as pd\n",
    "\n",
    "import matplotlib.pyplot as plt\n",
    "\n",
    "%matplotlib inline\n",
    "\n",
    "plt.style.use('ggplot')\n",
    "\n",
    "import seaborn as sns\n",
    "\n",
    "import warnings\n",
    "\n",
    "warnings.filterwarnings(\"ignore\")"
   ]
  },
  {
   "cell_type": "code",
   "execution_count": 3,
   "metadata": {},
   "outputs": [],
   "source": [
    "#importing data"
   ]
  },
  {
   "cell_type": "code",
   "execution_count": 4,
   "metadata": {},
   "outputs": [],
   "source": [
    "calendar = pd.read_csv(\"calendar_.csv\")\n",
    "\n",
    "listings_full = pd.read_csv(\"listings_.csv\")"
   ]
  },
  {
   "cell_type": "code",
   "execution_count": 5,
   "metadata": {},
   "outputs": [],
   "source": [
    "#questions"
   ]
  },
  {
   "cell_type": "markdown",
   "metadata": {},
   "source": [
    "### Business understanding.\n",
    "\n",
    "*This is data of Airbnb in Asheville, North Carolina, United States. With this data we can find insights into rooms, their type and other*\n",
    "\n",
    "*information like host listings.*\n",
    "\n",
    "*This data consists of facilities, price and review scores from users in Asheville, North Carolina, United States.*\n",
    "\n",
    "### Questions for which we would find answers are as below. \n",
    "\n",
    "`1. When does price goes high and when it becomes low ? , from this answer, we can know which month it costs more and also in `\n",
    "\n",
    "`which month it costs less.`\n",
    "\n",
    "`2. Does instant bookable feature impact price ? , from this answer we find how price varies with and without this feature.`\n",
    "\n",
    "`3. Which room type costs more ? , from this answer we can know which type of room costs more.`"
   ]
  },
  {
   "cell_type": "code",
   "execution_count": 6,
   "metadata": {},
   "outputs": [],
   "source": [
    "#Analysis"
   ]
  },
  {
   "cell_type": "markdown",
   "metadata": {},
   "source": [
    "## Calendar data analysis\n",
    "\n",
    "1. Removing unnecessary features\n",
    "\n",
    "2. Converting types\n",
    "\n",
    "3. Transforming values\n",
    "\n",
    "4. Checking for null values\n",
    "\n",
    "5. Outlier detection"
   ]
  },
  {
   "cell_type": "code",
   "execution_count": 7,
   "metadata": {},
   "outputs": [
    {
     "data": {
      "text/html": [
       "<div>\n",
       "<style scoped>\n",
       "    .dataframe tbody tr th:only-of-type {\n",
       "        vertical-align: middle;\n",
       "    }\n",
       "\n",
       "    .dataframe tbody tr th {\n",
       "        vertical-align: top;\n",
       "    }\n",
       "\n",
       "    .dataframe thead th {\n",
       "        text-align: right;\n",
       "    }\n",
       "</style>\n",
       "<table border=\"1\" class=\"dataframe\">\n",
       "  <thead>\n",
       "    <tr style=\"text-align: right;\">\n",
       "      <th></th>\n",
       "      <th>listing_id</th>\n",
       "      <th>date</th>\n",
       "      <th>available</th>\n",
       "      <th>price</th>\n",
       "      <th>adjusted_price</th>\n",
       "      <th>minimum_nights</th>\n",
       "      <th>maximum_nights</th>\n",
       "    </tr>\n",
       "  </thead>\n",
       "  <tbody>\n",
       "    <tr>\n",
       "      <th>0</th>\n",
       "      <td>8085716</td>\n",
       "      <td>2020-12-20</td>\n",
       "      <td>f</td>\n",
       "      <td>$41.00</td>\n",
       "      <td>$41.00</td>\n",
       "      <td>2</td>\n",
       "      <td>1125</td>\n",
       "    </tr>\n",
       "    <tr>\n",
       "      <th>1</th>\n",
       "      <td>8085716</td>\n",
       "      <td>2020-12-21</td>\n",
       "      <td>f</td>\n",
       "      <td>$41.00</td>\n",
       "      <td>$41.00</td>\n",
       "      <td>2</td>\n",
       "      <td>1125</td>\n",
       "    </tr>\n",
       "  </tbody>\n",
       "</table>\n",
       "</div>"
      ],
      "text/plain": [
       "   listing_id        date available   price adjusted_price  minimum_nights  \\\n",
       "0     8085716  2020-12-20         f  $41.00         $41.00               2   \n",
       "1     8085716  2020-12-21         f  $41.00         $41.00               2   \n",
       "\n",
       "   maximum_nights  \n",
       "0            1125  \n",
       "1            1125  "
      ]
     },
     "execution_count": 7,
     "metadata": {},
     "output_type": "execute_result"
    }
   ],
   "source": [
    "calendar.head(2)"
   ]
  },
  {
   "cell_type": "code",
   "execution_count": 8,
   "metadata": {},
   "outputs": [
    {
     "name": "stdout",
     "output_type": "stream",
     "text": [
      "<class 'pandas.core.frame.DataFrame'>\n",
      "RangeIndex: 824170 entries, 0 to 824169\n",
      "Data columns (total 7 columns):\n",
      "listing_id        824170 non-null int64\n",
      "date              824170 non-null object\n",
      "available         824170 non-null object\n",
      "price             824170 non-null object\n",
      "adjusted_price    824170 non-null object\n",
      "minimum_nights    824170 non-null int64\n",
      "maximum_nights    824170 non-null int64\n",
      "dtypes: int64(3), object(4)\n",
      "memory usage: 44.0+ MB\n"
     ]
    }
   ],
   "source": [
    "calendar.info()"
   ]
  },
  {
   "cell_type": "code",
   "execution_count": 9,
   "metadata": {},
   "outputs": [],
   "source": [
    "#Data understanding of calendar and listings data"
   ]
  },
  {
   "cell_type": "markdown",
   "metadata": {},
   "source": [
    "## Data understanding\n",
    "\n",
    "*For calendar data, what we got are listing_id (which is not necessary for our analysis), date (which is booking data) in object type,*\n",
    "\n",
    "*available feature (which is availablility of room) in object type, price (which is price of room) in object type, adjusted_price in object type,*\n",
    "\n",
    "*minimum_nights in integer type, maximum_nights in integer type.*"
   ]
  },
  {
   "cell_type": "code",
   "execution_count": 10,
   "metadata": {},
   "outputs": [],
   "source": [
    "#Preparing data"
   ]
  },
  {
   "cell_type": "markdown",
   "metadata": {},
   "source": [
    "## Preparing Calendar data"
   ]
  },
  {
   "cell_type": "code",
   "execution_count": 11,
   "metadata": {},
   "outputs": [],
   "source": [
    "#here listing_id is not necessary,\n",
    "\n",
    "#date should be converted to datetime type,\n",
    "\n",
    "#price and adjusted_price must be cleaned and converted to float type,\n",
    "\n",
    "#available faeture must be label encoded to convert it to numerical type,\n",
    "\n",
    "#null values must be checked,\n",
    "\n",
    "#outliers must be checked."
   ]
  },
  {
   "cell_type": "code",
   "execution_count": 12,
   "metadata": {},
   "outputs": [],
   "source": [
    "#removing listing_id\n",
    "\n",
    "calendar.drop('listing_id', axis = 1, inplace = True)"
   ]
  },
  {
   "cell_type": "code",
   "execution_count": 13,
   "metadata": {},
   "outputs": [
    {
     "data": {
      "text/plain": [
       "date              0\n",
       "available         0\n",
       "price             0\n",
       "adjusted_price    0\n",
       "minimum_nights    0\n",
       "maximum_nights    0\n",
       "dtype: int64"
      ]
     },
     "execution_count": 13,
     "metadata": {},
     "output_type": "execute_result"
    }
   ],
   "source": [
    "#checking for null values\n",
    "\n",
    "calendar.isnull().sum()"
   ]
  },
  {
   "cell_type": "code",
   "execution_count": 14,
   "metadata": {},
   "outputs": [],
   "source": [
    "#there is no null value in calendat data"
   ]
  },
  {
   "cell_type": "code",
   "execution_count": 15,
   "metadata": {},
   "outputs": [
    {
     "name": "stdout",
     "output_type": "stream",
     "text": [
      "minimum_nights      2.0\n",
      "maximum_nights    760.0\n",
      "dtype: float64\n"
     ]
    }
   ],
   "source": [
    "#checking for outliers\n",
    "\n",
    "Q1 = calendar.quantile(0.25)\n",
    "\n",
    "Q3 = calendar.quantile(0.75)\n",
    "\n",
    "IQR = Q3 - Q1\n",
    "\n",
    "print(IQR)"
   ]
  },
  {
   "cell_type": "code",
   "execution_count": 16,
   "metadata": {},
   "outputs": [
    {
     "data": {
      "text/plain": [
       "(824170, 6)"
      ]
     },
     "execution_count": 16,
     "metadata": {},
     "output_type": "execute_result"
    }
   ],
   "source": [
    "calendar.shape"
   ]
  },
  {
   "cell_type": "code",
   "execution_count": 17,
   "metadata": {},
   "outputs": [
    {
     "data": {
      "text/plain": [
       "(735824, 6)"
      ]
     },
     "execution_count": 17,
     "metadata": {},
     "output_type": "execute_result"
    }
   ],
   "source": [
    "#removing outliers\n",
    "\n",
    "calendar_data = calendar[~((calendar < (Q1 - 1.5 * IQR)) |(calendar > (Q3 + 1.5 * IQR))).any(axis=1)]\n",
    "\n",
    "calendar_data.shape"
   ]
  },
  {
   "cell_type": "code",
   "execution_count": 18,
   "metadata": {},
   "outputs": [],
   "source": [
    "#nearly 90,000 outliers removed"
   ]
  },
  {
   "cell_type": "code",
   "execution_count": 19,
   "metadata": {},
   "outputs": [],
   "source": [
    "#taking 10000 rows since data is big"
   ]
  },
  {
   "cell_type": "code",
   "execution_count": 20,
   "metadata": {},
   "outputs": [],
   "source": [
    "calendar_full = calendar_data[:10000]"
   ]
  },
  {
   "cell_type": "code",
   "execution_count": 21,
   "metadata": {},
   "outputs": [
    {
     "data": {
      "text/plain": [
       "(10000, 6)"
      ]
     },
     "execution_count": 21,
     "metadata": {},
     "output_type": "execute_result"
    }
   ],
   "source": [
    "calendar_full.shape"
   ]
  },
  {
   "cell_type": "code",
   "execution_count": 22,
   "metadata": {},
   "outputs": [
    {
     "data": {
      "text/html": [
       "<div>\n",
       "<style scoped>\n",
       "    .dataframe tbody tr th:only-of-type {\n",
       "        vertical-align: middle;\n",
       "    }\n",
       "\n",
       "    .dataframe tbody tr th {\n",
       "        vertical-align: top;\n",
       "    }\n",
       "\n",
       "    .dataframe thead th {\n",
       "        text-align: right;\n",
       "    }\n",
       "</style>\n",
       "<table border=\"1\" class=\"dataframe\">\n",
       "  <thead>\n",
       "    <tr style=\"text-align: right;\">\n",
       "      <th></th>\n",
       "      <th>date</th>\n",
       "      <th>available</th>\n",
       "      <th>price</th>\n",
       "      <th>adjusted_price</th>\n",
       "      <th>minimum_nights</th>\n",
       "      <th>maximum_nights</th>\n",
       "    </tr>\n",
       "  </thead>\n",
       "  <tbody>\n",
       "    <tr>\n",
       "      <th>0</th>\n",
       "      <td>2020-12-20</td>\n",
       "      <td>f</td>\n",
       "      <td>$41.00</td>\n",
       "      <td>$41.00</td>\n",
       "      <td>2</td>\n",
       "      <td>1125</td>\n",
       "    </tr>\n",
       "    <tr>\n",
       "      <th>1</th>\n",
       "      <td>2020-12-21</td>\n",
       "      <td>f</td>\n",
       "      <td>$41.00</td>\n",
       "      <td>$41.00</td>\n",
       "      <td>2</td>\n",
       "      <td>1125</td>\n",
       "    </tr>\n",
       "  </tbody>\n",
       "</table>\n",
       "</div>"
      ],
      "text/plain": [
       "         date available   price adjusted_price  minimum_nights  maximum_nights\n",
       "0  2020-12-20         f  $41.00         $41.00               2            1125\n",
       "1  2020-12-21         f  $41.00         $41.00               2            1125"
      ]
     },
     "execution_count": 22,
     "metadata": {},
     "output_type": "execute_result"
    }
   ],
   "source": [
    "calendar_full.head(2)"
   ]
  },
  {
   "cell_type": "code",
   "execution_count": 23,
   "metadata": {},
   "outputs": [],
   "source": [
    "#so far removed unnecessary feature, no null values and outliers removed"
   ]
  },
  {
   "cell_type": "markdown",
   "metadata": {},
   "source": [
    "date column which is mentioned as object type should be converted to date type\n",
    "\n",
    "price and adjusted_price must be cleaned and converted to float"
   ]
  },
  {
   "cell_type": "code",
   "execution_count": 24,
   "metadata": {},
   "outputs": [],
   "source": [
    "#changing type of date feature\n",
    "\n",
    "calendar[\"date\"] = pd.to_datetime(calendar[\"date\"])\n",
    "\n",
    "calendar_full[\"date\"] = pd.to_datetime(calendar_full[\"date\"])"
   ]
  },
  {
   "cell_type": "code",
   "execution_count": 25,
   "metadata": {},
   "outputs": [
    {
     "name": "stdout",
     "output_type": "stream",
     "text": [
      "<class 'pandas.core.frame.DataFrame'>\n",
      "Int64Index: 10000 entries, 0 to 13284\n",
      "Data columns (total 6 columns):\n",
      "date              10000 non-null datetime64[ns]\n",
      "available         10000 non-null object\n",
      "price             10000 non-null object\n",
      "adjusted_price    10000 non-null object\n",
      "minimum_nights    10000 non-null int64\n",
      "maximum_nights    10000 non-null int64\n",
      "dtypes: datetime64[ns](1), int64(2), object(3)\n",
      "memory usage: 546.9+ KB\n"
     ]
    }
   ],
   "source": [
    "calendar_full.info()"
   ]
  },
  {
   "cell_type": "code",
   "execution_count": 26,
   "metadata": {},
   "outputs": [],
   "source": [
    "#cleaning price and adjusted_price features\n",
    "\n",
    "calendar_full[\"price\"] = calendar_full[\"price\"].str.replace(\"$\",\"\")\n",
    "\n",
    "calendar_full[\"price\"] = calendar_full[\"price\"].str.replace(\",\",\"\")\n",
    "\n",
    "calendar_full[\"adjusted_price\"] = calendar_full[\"adjusted_price\"].str.replace(\"$\",\"\")\n",
    "\n",
    "calendar_full[\"adjusted_price\"] = calendar_full[\"adjusted_price\"].str.replace(\",\",\"\")"
   ]
  },
  {
   "cell_type": "code",
   "execution_count": 27,
   "metadata": {},
   "outputs": [],
   "source": [
    "#converting price and adjusting_price to float type\n",
    "\n",
    "calendar_full[\"price\"] = calendar_full[\"price\"].astype(\"float\")\n",
    "\n",
    "calendar_full[\"adjusted_price\"] = calendar_full[\"adjusted_price\"].astype(\"float\")"
   ]
  },
  {
   "cell_type": "code",
   "execution_count": 28,
   "metadata": {},
   "outputs": [
    {
     "name": "stdout",
     "output_type": "stream",
     "text": [
      "<class 'pandas.core.frame.DataFrame'>\n",
      "Int64Index: 10000 entries, 0 to 13284\n",
      "Data columns (total 6 columns):\n",
      "date              10000 non-null datetime64[ns]\n",
      "available         10000 non-null object\n",
      "price             10000 non-null float64\n",
      "adjusted_price    10000 non-null float64\n",
      "minimum_nights    10000 non-null int64\n",
      "maximum_nights    10000 non-null int64\n",
      "dtypes: datetime64[ns](1), float64(2), int64(2), object(1)\n",
      "memory usage: 546.9+ KB\n"
     ]
    }
   ],
   "source": [
    "calendar_full.info()"
   ]
  },
  {
   "cell_type": "code",
   "execution_count": 29,
   "metadata": {},
   "outputs": [],
   "source": [
    "#create new columns month and day"
   ]
  },
  {
   "cell_type": "code",
   "execution_count": 30,
   "metadata": {},
   "outputs": [],
   "source": [
    "calendar_full[\"month\"] = calendar_full[\"date\"].dt.month\n",
    "\n",
    "calendar_full[\"day\"] = calendar_full[\"date\"].dt.day"
   ]
  },
  {
   "cell_type": "code",
   "execution_count": 31,
   "metadata": {},
   "outputs": [
    {
     "name": "stdout",
     "output_type": "stream",
     "text": [
      "<class 'pandas.core.frame.DataFrame'>\n",
      "Int64Index: 10000 entries, 0 to 13284\n",
      "Data columns (total 8 columns):\n",
      "date              10000 non-null datetime64[ns]\n",
      "available         10000 non-null object\n",
      "price             10000 non-null float64\n",
      "adjusted_price    10000 non-null float64\n",
      "minimum_nights    10000 non-null int64\n",
      "maximum_nights    10000 non-null int64\n",
      "month             10000 non-null int64\n",
      "day               10000 non-null int64\n",
      "dtypes: datetime64[ns](1), float64(2), int64(4), object(1)\n",
      "memory usage: 703.1+ KB\n"
     ]
    }
   ],
   "source": [
    "calendar_full.info()"
   ]
  },
  {
   "cell_type": "code",
   "execution_count": 32,
   "metadata": {},
   "outputs": [
    {
     "data": {
      "text/plain": [
       "t    7548\n",
       "f    2452\n",
       "Name: available, dtype: int64"
      ]
     },
     "execution_count": 32,
     "metadata": {},
     "output_type": "execute_result"
    }
   ],
   "source": [
    "calendar_full.available.value_counts()"
   ]
  },
  {
   "cell_type": "code",
   "execution_count": 33,
   "metadata": {},
   "outputs": [
    {
     "data": {
      "text/plain": [
       "0    7548\n",
       "1    2452\n",
       "Name: available, dtype: int64"
      ]
     },
     "execution_count": 33,
     "metadata": {},
     "output_type": "execute_result"
    }
   ],
   "source": [
    "#label encoding available feature\n",
    "\n",
    "enc = {\"available\" : { \"t\" : 0, \"f\" : 1}}\n",
    "\n",
    "calendar_full = calendar_full.replace(enc)\n",
    "\n",
    "calendar_full.available.value_counts()"
   ]
  },
  {
   "cell_type": "code",
   "execution_count": 34,
   "metadata": {},
   "outputs": [
    {
     "data": {
      "text/html": [
       "<div>\n",
       "<style scoped>\n",
       "    .dataframe tbody tr th:only-of-type {\n",
       "        vertical-align: middle;\n",
       "    }\n",
       "\n",
       "    .dataframe tbody tr th {\n",
       "        vertical-align: top;\n",
       "    }\n",
       "\n",
       "    .dataframe thead th {\n",
       "        text-align: right;\n",
       "    }\n",
       "</style>\n",
       "<table border=\"1\" class=\"dataframe\">\n",
       "  <thead>\n",
       "    <tr style=\"text-align: right;\">\n",
       "      <th></th>\n",
       "      <th>available</th>\n",
       "      <th>price</th>\n",
       "      <th>adjusted_price</th>\n",
       "      <th>minimum_nights</th>\n",
       "      <th>maximum_nights</th>\n",
       "      <th>month</th>\n",
       "      <th>day</th>\n",
       "    </tr>\n",
       "  </thead>\n",
       "  <tbody>\n",
       "    <tr>\n",
       "      <th>count</th>\n",
       "      <td>10000.000000</td>\n",
       "      <td>10000.000000</td>\n",
       "      <td>10000.000000</td>\n",
       "      <td>10000.000000</td>\n",
       "      <td>10000.000000</td>\n",
       "      <td>10000.000000</td>\n",
       "      <td>10000.000000</td>\n",
       "    </tr>\n",
       "    <tr>\n",
       "      <th>mean</th>\n",
       "      <td>0.245200</td>\n",
       "      <td>139.139600</td>\n",
       "      <td>139.126400</td>\n",
       "      <td>1.834900</td>\n",
       "      <td>809.054300</td>\n",
       "      <td>6.479000</td>\n",
       "      <td>15.724800</td>\n",
       "    </tr>\n",
       "    <tr>\n",
       "      <th>std</th>\n",
       "      <td>0.430227</td>\n",
       "      <td>99.848215</td>\n",
       "      <td>99.838316</td>\n",
       "      <td>0.930445</td>\n",
       "      <td>486.667314</td>\n",
       "      <td>3.477063</td>\n",
       "      <td>8.799955</td>\n",
       "    </tr>\n",
       "    <tr>\n",
       "      <th>min</th>\n",
       "      <td>0.000000</td>\n",
       "      <td>29.000000</td>\n",
       "      <td>29.000000</td>\n",
       "      <td>1.000000</td>\n",
       "      <td>1.000000</td>\n",
       "      <td>1.000000</td>\n",
       "      <td>1.000000</td>\n",
       "    </tr>\n",
       "    <tr>\n",
       "      <th>25%</th>\n",
       "      <td>0.000000</td>\n",
       "      <td>76.000000</td>\n",
       "      <td>76.000000</td>\n",
       "      <td>1.000000</td>\n",
       "      <td>90.000000</td>\n",
       "      <td>3.000000</td>\n",
       "      <td>8.000000</td>\n",
       "    </tr>\n",
       "    <tr>\n",
       "      <th>50%</th>\n",
       "      <td>0.000000</td>\n",
       "      <td>103.000000</td>\n",
       "      <td>103.000000</td>\n",
       "      <td>2.000000</td>\n",
       "      <td>1125.000000</td>\n",
       "      <td>6.000000</td>\n",
       "      <td>16.000000</td>\n",
       "    </tr>\n",
       "    <tr>\n",
       "      <th>75%</th>\n",
       "      <td>0.000000</td>\n",
       "      <td>165.000000</td>\n",
       "      <td>165.000000</td>\n",
       "      <td>2.000000</td>\n",
       "      <td>1125.000000</td>\n",
       "      <td>10.000000</td>\n",
       "      <td>23.000000</td>\n",
       "    </tr>\n",
       "    <tr>\n",
       "      <th>max</th>\n",
       "      <td>1.000000</td>\n",
       "      <td>523.000000</td>\n",
       "      <td>523.000000</td>\n",
       "      <td>5.000000</td>\n",
       "      <td>1125.000000</td>\n",
       "      <td>12.000000</td>\n",
       "      <td>31.000000</td>\n",
       "    </tr>\n",
       "  </tbody>\n",
       "</table>\n",
       "</div>"
      ],
      "text/plain": [
       "          available         price  adjusted_price  minimum_nights  \\\n",
       "count  10000.000000  10000.000000    10000.000000    10000.000000   \n",
       "mean       0.245200    139.139600      139.126400        1.834900   \n",
       "std        0.430227     99.848215       99.838316        0.930445   \n",
       "min        0.000000     29.000000       29.000000        1.000000   \n",
       "25%        0.000000     76.000000       76.000000        1.000000   \n",
       "50%        0.000000    103.000000      103.000000        2.000000   \n",
       "75%        0.000000    165.000000      165.000000        2.000000   \n",
       "max        1.000000    523.000000      523.000000        5.000000   \n",
       "\n",
       "       maximum_nights         month           day  \n",
       "count    10000.000000  10000.000000  10000.000000  \n",
       "mean       809.054300      6.479000     15.724800  \n",
       "std        486.667314      3.477063      8.799955  \n",
       "min          1.000000      1.000000      1.000000  \n",
       "25%         90.000000      3.000000      8.000000  \n",
       "50%       1125.000000      6.000000     16.000000  \n",
       "75%       1125.000000     10.000000     23.000000  \n",
       "max       1125.000000     12.000000     31.000000  "
      ]
     },
     "execution_count": 34,
     "metadata": {},
     "output_type": "execute_result"
    }
   ],
   "source": [
    "calendar_full.describe()"
   ]
  },
  {
   "cell_type": "code",
   "execution_count": 35,
   "metadata": {},
   "outputs": [
    {
     "data": {
      "text/plain": [
       "date              0\n",
       "available         0\n",
       "price             0\n",
       "adjusted_price    0\n",
       "minimum_nights    0\n",
       "maximum_nights    0\n",
       "month             0\n",
       "day               0\n",
       "dtype: int64"
      ]
     },
     "execution_count": 35,
     "metadata": {},
     "output_type": "execute_result"
    }
   ],
   "source": [
    "#checking for null values again\n",
    "\n",
    "calendar_full.isnull().sum()"
   ]
  },
  {
   "cell_type": "code",
   "execution_count": 36,
   "metadata": {},
   "outputs": [
    {
     "name": "stdout",
     "output_type": "stream",
     "text": [
      "<class 'pandas.core.frame.DataFrame'>\n",
      "Int64Index: 10000 entries, 0 to 13284\n",
      "Data columns (total 8 columns):\n",
      "date              10000 non-null datetime64[ns]\n",
      "available         10000 non-null int64\n",
      "price             10000 non-null float64\n",
      "adjusted_price    10000 non-null float64\n",
      "minimum_nights    10000 non-null int64\n",
      "maximum_nights    10000 non-null int64\n",
      "month             10000 non-null int64\n",
      "day               10000 non-null int64\n",
      "dtypes: datetime64[ns](1), float64(2), int64(5)\n",
      "memory usage: 703.1 KB\n"
     ]
    }
   ],
   "source": [
    "calendar_full.info()"
   ]
  },
  {
   "cell_type": "code",
   "execution_count": 37,
   "metadata": {},
   "outputs": [],
   "source": [
    "#no null values, outliers removed and all are numerical"
   ]
  },
  {
   "cell_type": "markdown",
   "metadata": {},
   "source": [
    "## Question 1. When does price goes high and when it becomes low ?"
   ]
  },
  {
   "cell_type": "code",
   "execution_count": 38,
   "metadata": {},
   "outputs": [],
   "source": [
    "#lets see which month price goes high and low"
   ]
  },
  {
   "cell_type": "code",
   "execution_count": 39,
   "metadata": {},
   "outputs": [
    {
     "data": {
      "text/html": [
       "<div>\n",
       "<style scoped>\n",
       "    .dataframe tbody tr th:only-of-type {\n",
       "        vertical-align: middle;\n",
       "    }\n",
       "\n",
       "    .dataframe tbody tr th {\n",
       "        vertical-align: top;\n",
       "    }\n",
       "\n",
       "    .dataframe thead th {\n",
       "        text-align: right;\n",
       "    }\n",
       "</style>\n",
       "<table border=\"1\" class=\"dataframe\">\n",
       "  <thead>\n",
       "    <tr style=\"text-align: right;\">\n",
       "      <th></th>\n",
       "      <th>date</th>\n",
       "      <th>available</th>\n",
       "      <th>price</th>\n",
       "      <th>adjusted_price</th>\n",
       "      <th>minimum_nights</th>\n",
       "      <th>maximum_nights</th>\n",
       "      <th>month</th>\n",
       "      <th>day</th>\n",
       "    </tr>\n",
       "  </thead>\n",
       "  <tbody>\n",
       "    <tr>\n",
       "      <th>0</th>\n",
       "      <td>2020-12-20</td>\n",
       "      <td>1</td>\n",
       "      <td>41.0</td>\n",
       "      <td>41.0</td>\n",
       "      <td>2</td>\n",
       "      <td>1125</td>\n",
       "      <td>12</td>\n",
       "      <td>20</td>\n",
       "    </tr>\n",
       "    <tr>\n",
       "      <th>1</th>\n",
       "      <td>2020-12-21</td>\n",
       "      <td>1</td>\n",
       "      <td>41.0</td>\n",
       "      <td>41.0</td>\n",
       "      <td>2</td>\n",
       "      <td>1125</td>\n",
       "      <td>12</td>\n",
       "      <td>21</td>\n",
       "    </tr>\n",
       "  </tbody>\n",
       "</table>\n",
       "</div>"
      ],
      "text/plain": [
       "        date  available  price  adjusted_price  minimum_nights  \\\n",
       "0 2020-12-20          1   41.0            41.0               2   \n",
       "1 2020-12-21          1   41.0            41.0               2   \n",
       "\n",
       "   maximum_nights  month  day  \n",
       "0            1125     12   20  \n",
       "1            1125     12   21  "
      ]
     },
     "execution_count": 39,
     "metadata": {},
     "output_type": "execute_result"
    }
   ],
   "source": [
    "calendar_full.head(2)"
   ]
  },
  {
   "cell_type": "code",
   "execution_count": 40,
   "metadata": {},
   "outputs": [],
   "source": [
    "price_date = calendar_full.groupby(calendar_full['date'].dt.strftime('%B'))['price'].mean()\n",
    "\n",
    "price_date = price_date.sort_values(ascending = False)\n",
    "\n",
    "price_date = price_date.to_frame()\n",
    "\n",
    "price_date.reset_index(level= price_date.index.names, inplace=True)"
   ]
  },
  {
   "cell_type": "code",
   "execution_count": 41,
   "metadata": {},
   "outputs": [
    {
     "data": {
      "text/html": [
       "<div>\n",
       "<style scoped>\n",
       "    .dataframe tbody tr th:only-of-type {\n",
       "        vertical-align: middle;\n",
       "    }\n",
       "\n",
       "    .dataframe tbody tr th {\n",
       "        vertical-align: top;\n",
       "    }\n",
       "\n",
       "    .dataframe thead th {\n",
       "        text-align: right;\n",
       "    }\n",
       "</style>\n",
       "<table border=\"1\" class=\"dataframe\">\n",
       "  <thead>\n",
       "    <tr style=\"text-align: right;\">\n",
       "      <th></th>\n",
       "      <th>date</th>\n",
       "      <th>price</th>\n",
       "    </tr>\n",
       "  </thead>\n",
       "  <tbody>\n",
       "    <tr>\n",
       "      <th>0</th>\n",
       "      <td>November</td>\n",
       "      <td>149.767901</td>\n",
       "    </tr>\n",
       "    <tr>\n",
       "      <th>1</th>\n",
       "      <td>October</td>\n",
       "      <td>147.675030</td>\n",
       "    </tr>\n",
       "    <tr>\n",
       "      <th>2</th>\n",
       "      <td>December</td>\n",
       "      <td>146.197445</td>\n",
       "    </tr>\n",
       "    <tr>\n",
       "      <th>3</th>\n",
       "      <td>July</td>\n",
       "      <td>141.513740</td>\n",
       "    </tr>\n",
       "    <tr>\n",
       "      <th>4</th>\n",
       "      <td>June</td>\n",
       "      <td>140.995062</td>\n",
       "    </tr>\n",
       "    <tr>\n",
       "      <th>5</th>\n",
       "      <td>August</td>\n",
       "      <td>140.277180</td>\n",
       "    </tr>\n",
       "    <tr>\n",
       "      <th>6</th>\n",
       "      <td>September</td>\n",
       "      <td>140.098765</td>\n",
       "    </tr>\n",
       "    <tr>\n",
       "      <th>7</th>\n",
       "      <td>May</td>\n",
       "      <td>139.087216</td>\n",
       "    </tr>\n",
       "    <tr>\n",
       "      <th>8</th>\n",
       "      <td>April</td>\n",
       "      <td>136.804938</td>\n",
       "    </tr>\n",
       "    <tr>\n",
       "      <th>9</th>\n",
       "      <td>March</td>\n",
       "      <td>132.297041</td>\n",
       "    </tr>\n",
       "    <tr>\n",
       "      <th>10</th>\n",
       "      <td>February</td>\n",
       "      <td>128.027261</td>\n",
       "    </tr>\n",
       "    <tr>\n",
       "      <th>11</th>\n",
       "      <td>January</td>\n",
       "      <td>127.610679</td>\n",
       "    </tr>\n",
       "  </tbody>\n",
       "</table>\n",
       "</div>"
      ],
      "text/plain": [
       "         date       price\n",
       "0    November  149.767901\n",
       "1     October  147.675030\n",
       "2    December  146.197445\n",
       "3        July  141.513740\n",
       "4        June  140.995062\n",
       "5      August  140.277180\n",
       "6   September  140.098765\n",
       "7         May  139.087216\n",
       "8       April  136.804938\n",
       "9       March  132.297041\n",
       "10   February  128.027261\n",
       "11    January  127.610679"
      ]
     },
     "execution_count": 41,
     "metadata": {},
     "output_type": "execute_result"
    }
   ],
   "source": [
    "price_date"
   ]
  },
  {
   "cell_type": "code",
   "execution_count": 42,
   "metadata": {},
   "outputs": [],
   "source": [
    "#Answer 1"
   ]
  },
  {
   "cell_type": "markdown",
   "metadata": {},
   "source": [
    "*Answer 1. We can see price is high from october to December and low from january to april*"
   ]
  },
  {
   "cell_type": "code",
   "execution_count": 43,
   "metadata": {},
   "outputs": [
    {
     "data": {
      "image/png": "[encoded data removed]",
      "text/plain": [
       "<Figure size 1440x1080 with 1 Axes>"
      ]
     },
     "metadata": {},
     "output_type": "display_data"
    }
   ],
   "source": [
    "fig, ax = plt.subplots(figsize = (20,15))\n",
    "\n",
    "ax.plot(price_date[\"date\"], price_date[\"price\"], marker = 'o', linestyle = '--', color = 'g')\n",
    "\n",
    "ax.set_xlabel(\"Month\")\n",
    "\n",
    "ax.set_ylabel(\"price\")\n",
    "\n",
    "ax.set_title(\"Average price vs month \")\n",
    "\n",
    "plt.show()"
   ]
  },
  {
   "cell_type": "code",
   "execution_count": 44,
   "metadata": {},
   "outputs": [
    {
     "data": {
      "text/plain": [
       "Text(0.5, 1.0, 'Mean price vs month')"
      ]
     },
     "execution_count": 44,
     "metadata": {},
     "output_type": "execute_result"
    },
    {
     "data": {
      "image/png": "[encoded data removed]",
      "text/plain": [
       "<Figure size 1440x1080 with 1 Axes>"
      ]
     },
     "metadata": {},
     "output_type": "display_data"
    }
   ],
   "source": [
    "price_date_series = calendar_full.groupby(calendar_full['date'].dt.strftime('%B'))['price'].mean()\n",
    "\n",
    "ax2 = price_date_series.plot(kind = 'bar', figsize = (20,15), colormap = \"spring\")\n",
    "\n",
    "ax2.set_ylabel(\"Mean price\")\n",
    "\n",
    "ax2.set_title(\"Mean price vs month\")"
   ]
  },
  {
   "cell_type": "code",
   "execution_count": 45,
   "metadata": {},
   "outputs": [],
   "source": [
    "#listing data"
   ]
  },
  {
   "cell_type": "markdown",
   "metadata": {},
   "source": [
    "## Listing datasets analysis"
   ]
  },
  {
   "cell_type": "code",
   "execution_count": 46,
   "metadata": {},
   "outputs": [
    {
     "data": {
      "text/html": [
       "<div>\n",
       "<style scoped>\n",
       "    .dataframe tbody tr th:only-of-type {\n",
       "        vertical-align: middle;\n",
       "    }\n",
       "\n",
       "    .dataframe tbody tr th {\n",
       "        vertical-align: top;\n",
       "    }\n",
       "\n",
       "    .dataframe thead th {\n",
       "        text-align: right;\n",
       "    }\n",
       "</style>\n",
       "<table border=\"1\" class=\"dataframe\">\n",
       "  <thead>\n",
       "    <tr style=\"text-align: right;\">\n",
       "      <th></th>\n",
       "      <th>id</th>\n",
       "      <th>listing_url</th>\n",
       "      <th>scrape_id</th>\n",
       "      <th>last_scraped</th>\n",
       "      <th>name</th>\n",
       "      <th>description</th>\n",
       "      <th>neighborhood_overview</th>\n",
       "      <th>picture_url</th>\n",
       "      <th>host_id</th>\n",
       "      <th>host_url</th>\n",
       "      <th>...</th>\n",
       "      <th>review_scores_communication</th>\n",
       "      <th>review_scores_location</th>\n",
       "      <th>review_scores_value</th>\n",
       "      <th>license</th>\n",
       "      <th>instant_bookable</th>\n",
       "      <th>calculated_host_listings_count</th>\n",
       "      <th>calculated_host_listings_count_entire_homes</th>\n",
       "      <th>calculated_host_listings_count_private_rooms</th>\n",
       "      <th>calculated_host_listings_count_shared_rooms</th>\n",
       "      <th>reviews_per_month</th>\n",
       "    </tr>\n",
       "  </thead>\n",
       "  <tbody>\n",
       "    <tr>\n",
       "      <th>0</th>\n",
       "      <td>108061</td>\n",
       "      <td>https://www.airbnb.com/rooms/108061</td>\n",
       "      <td>20201220165607</td>\n",
       "      <td>2020-12-20</td>\n",
       "      <td>Walk to stores/parks/downtown. Fenced yard/Pet...</td>\n",
       "      <td>Walk to town in ten minutes! Monthly rental in...</td>\n",
       "      <td>I love my neighborhood! Its friendly, easy-goi...</td>\n",
       "      <td>https://a0.muscache.com/pictures/41011975/0cdf...</td>\n",
       "      <td>320564</td>\n",
       "      <td>https://www.airbnb.com/users/show/320564</td>\n",
       "      <td>...</td>\n",
       "      <td>10.0</td>\n",
       "      <td>10.0</td>\n",
       "      <td>9.0</td>\n",
       "      <td>NaN</td>\n",
       "      <td>f</td>\n",
       "      <td>2</td>\n",
       "      <td>2</td>\n",
       "      <td>0</td>\n",
       "      <td>0</td>\n",
       "      <td>0.79</td>\n",
       "    </tr>\n",
       "    <tr>\n",
       "      <th>1</th>\n",
       "      <td>155305</td>\n",
       "      <td>https://www.airbnb.com/rooms/155305</td>\n",
       "      <td>20201220165607</td>\n",
       "      <td>2020-12-20</td>\n",
       "      <td>Cottage! BonPaul + Sharky's Hostel</td>\n",
       "      <td>&lt;b&gt;The space&lt;/b&gt;&lt;br /&gt;Private cottage located ...</td>\n",
       "      <td>We are within easy walk of pubs, breweries, mu...</td>\n",
       "      <td>https://a0.muscache.com/pictures/8880711/cf38d...</td>\n",
       "      <td>746673</td>\n",
       "      <td>https://www.airbnb.com/users/show/746673</td>\n",
       "      <td>...</td>\n",
       "      <td>10.0</td>\n",
       "      <td>10.0</td>\n",
       "      <td>10.0</td>\n",
       "      <td>NaN</td>\n",
       "      <td>t</td>\n",
       "      <td>6</td>\n",
       "      <td>1</td>\n",
       "      <td>1</td>\n",
       "      <td>4</td>\n",
       "      <td>2.44</td>\n",
       "    </tr>\n",
       "  </tbody>\n",
       "</table>\n",
       "<p>2 rows × 74 columns</p>\n",
       "</div>"
      ],
      "text/plain": [
       "       id                          listing_url       scrape_id last_scraped  \\\n",
       "0  108061  https://www.airbnb.com/rooms/108061  20201220165607   2020-12-20   \n",
       "1  155305  https://www.airbnb.com/rooms/155305  20201220165607   2020-12-20   \n",
       "\n",
       "                                                name  \\\n",
       "0  Walk to stores/parks/downtown. Fenced yard/Pet...   \n",
       "1                 Cottage! BonPaul + Sharky's Hostel   \n",
       "\n",
       "                                         description  \\\n",
       "0  Walk to town in ten minutes! Monthly rental in...   \n",
       "1  <b>The space</b><br />Private cottage located ...   \n",
       "\n",
       "                               neighborhood_overview  \\\n",
       "0  I love my neighborhood! Its friendly, easy-goi...   \n",
       "1  We are within easy walk of pubs, breweries, mu...   \n",
       "\n",
       "                                         picture_url  host_id  \\\n",
       "0  https://a0.muscache.com/pictures/41011975/0cdf...   320564   \n",
       "1  https://a0.muscache.com/pictures/8880711/cf38d...   746673   \n",
       "\n",
       "                                   host_url  ... review_scores_communication  \\\n",
       "0  https://www.airbnb.com/users/show/320564  ...                        10.0   \n",
       "1  https://www.airbnb.com/users/show/746673  ...                        10.0   \n",
       "\n",
       "  review_scores_location review_scores_value license instant_bookable  \\\n",
       "0                   10.0                 9.0     NaN                f   \n",
       "1                   10.0                10.0     NaN                t   \n",
       "\n",
       "  calculated_host_listings_count calculated_host_listings_count_entire_homes  \\\n",
       "0                              2                                           2   \n",
       "1                              6                                           1   \n",
       "\n",
       "  calculated_host_listings_count_private_rooms  \\\n",
       "0                                            0   \n",
       "1                                            1   \n",
       "\n",
       "  calculated_host_listings_count_shared_rooms reviews_per_month  \n",
       "0                                           0              0.79  \n",
       "1                                           4              2.44  \n",
       "\n",
       "[2 rows x 74 columns]"
      ]
     },
     "execution_count": 46,
     "metadata": {},
     "output_type": "execute_result"
    }
   ],
   "source": [
    "listings_full.head(2)"
   ]
  },
  {
   "cell_type": "code",
   "execution_count": 47,
   "metadata": {},
   "outputs": [
    {
     "name": "stdout",
     "output_type": "stream",
     "text": [
      "<class 'pandas.core.frame.DataFrame'>\n",
      "RangeIndex: 2258 entries, 0 to 2257\n",
      "Data columns (total 74 columns):\n",
      "id                                              2258 non-null int64\n",
      "listing_url                                     2258 non-null object\n",
      "scrape_id                                       2258 non-null int64\n",
      "last_scraped                                    2258 non-null object\n",
      "name                                            2258 non-null object\n",
      "description                                     2254 non-null object\n",
      "neighborhood_overview                           1817 non-null object\n",
      "picture_url                                     2258 non-null object\n",
      "host_id                                         2258 non-null int64\n",
      "host_url                                        2258 non-null object\n",
      "host_name                                       2257 non-null object\n",
      "host_since                                      2257 non-null object\n",
      "host_location                                   2255 non-null object\n",
      "host_about                                      1543 non-null object\n",
      "host_response_time                              2087 non-null object\n",
      "host_response_rate                              2087 non-null object\n",
      "host_acceptance_rate                            2160 non-null object\n",
      "host_is_superhost                               2257 non-null object\n",
      "host_thumbnail_url                              2257 non-null object\n",
      "host_picture_url                                2257 non-null object\n",
      "host_neighbourhood                              344 non-null object\n",
      "host_listings_count                             2257 non-null float64\n",
      "host_total_listings_count                       2257 non-null float64\n",
      "host_verifications                              2258 non-null object\n",
      "host_has_profile_pic                            2257 non-null object\n",
      "host_identity_verified                          2257 non-null object\n",
      "neighbourhood                                   1818 non-null object\n",
      "neighbourhood_cleansed                          2258 non-null int64\n",
      "neighbourhood_group_cleansed                    0 non-null float64\n",
      "latitude                                        2258 non-null float64\n",
      "longitude                                       2258 non-null float64\n",
      "property_type                                   2258 non-null object\n",
      "room_type                                       2258 non-null object\n",
      "accommodates                                    2258 non-null int64\n",
      "bathrooms                                       0 non-null float64\n",
      "bathrooms_text                                  2258 non-null object\n",
      "bedrooms                                        2078 non-null float64\n",
      "beds                                            2255 non-null float64\n",
      "amenities                                       2258 non-null object\n",
      "price                                           2258 non-null object\n",
      "minimum_nights                                  2258 non-null int64\n",
      "maximum_nights                                  2258 non-null int64\n",
      "minimum_minimum_nights                          2258 non-null int64\n",
      "maximum_minimum_nights                          2258 non-null int64\n",
      "minimum_maximum_nights                          2258 non-null int64\n",
      "maximum_maximum_nights                          2258 non-null int64\n",
      "minimum_nights_avg_ntm                          2258 non-null float64\n",
      "maximum_nights_avg_ntm                          2258 non-null float64\n",
      "calendar_updated                                0 non-null float64\n",
      "has_availability                                2258 non-null object\n",
      "availability_30                                 2258 non-null int64\n",
      "availability_60                                 2258 non-null int64\n",
      "availability_90                                 2258 non-null int64\n",
      "availability_365                                2258 non-null int64\n",
      "calendar_last_scraped                           2258 non-null object\n",
      "number_of_reviews                               2258 non-null int64\n",
      "number_of_reviews_ltm                           2258 non-null int64\n",
      "number_of_reviews_l30d                          2258 non-null int64\n",
      "first_review                                    2083 non-null object\n",
      "last_review                                     2083 non-null object\n",
      "review_scores_rating                            2079 non-null float64\n",
      "review_scores_accuracy                          2045 non-null float64\n",
      "review_scores_cleanliness                       2045 non-null float64\n",
      "review_scores_checkin                           2045 non-null float64\n",
      "review_scores_communication                     2045 non-null float64\n",
      "review_scores_location                          2045 non-null float64\n",
      "review_scores_value                             2045 non-null float64\n",
      "license                                         0 non-null float64\n",
      "instant_bookable                                2258 non-null object\n",
      "calculated_host_listings_count                  2258 non-null int64\n",
      "calculated_host_listings_count_entire_homes     2258 non-null int64\n",
      "calculated_host_listings_count_private_rooms    2258 non-null int64\n",
      "calculated_host_listings_count_shared_rooms     2258 non-null int64\n",
      "reviews_per_month                               2083 non-null float64\n",
      "dtypes: float64(20), int64(22), object(32)\n",
      "memory usage: 1.3+ MB\n"
     ]
    }
   ],
   "source": [
    "listings_full.info()"
   ]
  },
  {
   "cell_type": "code",
   "execution_count": 48,
   "metadata": {},
   "outputs": [
    {
     "data": {
      "text/html": [
       "<div>\n",
       "<style scoped>\n",
       "    .dataframe tbody tr th:only-of-type {\n",
       "        vertical-align: middle;\n",
       "    }\n",
       "\n",
       "    .dataframe tbody tr th {\n",
       "        vertical-align: top;\n",
       "    }\n",
       "\n",
       "    .dataframe thead th {\n",
       "        text-align: right;\n",
       "    }\n",
       "</style>\n",
       "<table border=\"1\" class=\"dataframe\">\n",
       "  <thead>\n",
       "    <tr style=\"text-align: right;\">\n",
       "      <th></th>\n",
       "      <th>id</th>\n",
       "      <th>scrape_id</th>\n",
       "      <th>host_id</th>\n",
       "      <th>host_listings_count</th>\n",
       "      <th>host_total_listings_count</th>\n",
       "      <th>neighbourhood_cleansed</th>\n",
       "      <th>neighbourhood_group_cleansed</th>\n",
       "      <th>latitude</th>\n",
       "      <th>longitude</th>\n",
       "      <th>accommodates</th>\n",
       "      <th>...</th>\n",
       "      <th>review_scores_checkin</th>\n",
       "      <th>review_scores_communication</th>\n",
       "      <th>review_scores_location</th>\n",
       "      <th>review_scores_value</th>\n",
       "      <th>license</th>\n",
       "      <th>calculated_host_listings_count</th>\n",
       "      <th>calculated_host_listings_count_entire_homes</th>\n",
       "      <th>calculated_host_listings_count_private_rooms</th>\n",
       "      <th>calculated_host_listings_count_shared_rooms</th>\n",
       "      <th>reviews_per_month</th>\n",
       "    </tr>\n",
       "  </thead>\n",
       "  <tbody>\n",
       "    <tr>\n",
       "      <th>count</th>\n",
       "      <td>2.258000e+03</td>\n",
       "      <td>2.258000e+03</td>\n",
       "      <td>2.258000e+03</td>\n",
       "      <td>2257.000000</td>\n",
       "      <td>2257.000000</td>\n",
       "      <td>2258.000000</td>\n",
       "      <td>0.0</td>\n",
       "      <td>2258.000000</td>\n",
       "      <td>2258.000000</td>\n",
       "      <td>2258.000000</td>\n",
       "      <td>...</td>\n",
       "      <td>2045.000000</td>\n",
       "      <td>2045.000000</td>\n",
       "      <td>2045.000000</td>\n",
       "      <td>2045.000000</td>\n",
       "      <td>0.0</td>\n",
       "      <td>2258.000000</td>\n",
       "      <td>2258.000000</td>\n",
       "      <td>2258.000000</td>\n",
       "      <td>2258.000000</td>\n",
       "      <td>2083.00000</td>\n",
       "    </tr>\n",
       "    <tr>\n",
       "      <th>mean</th>\n",
       "      <td>2.835357e+07</td>\n",
       "      <td>2.020122e+13</td>\n",
       "      <td>1.019268e+08</td>\n",
       "      <td>75.147098</td>\n",
       "      <td>75.147098</td>\n",
       "      <td>28793.913640</td>\n",
       "      <td>NaN</td>\n",
       "      <td>35.577524</td>\n",
       "      <td>-82.556568</td>\n",
       "      <td>4.239150</td>\n",
       "      <td>...</td>\n",
       "      <td>9.964303</td>\n",
       "      <td>9.943765</td>\n",
       "      <td>9.922738</td>\n",
       "      <td>9.731540</td>\n",
       "      <td>NaN</td>\n",
       "      <td>6.506643</td>\n",
       "      <td>5.671391</td>\n",
       "      <td>0.766608</td>\n",
       "      <td>0.015500</td>\n",
       "      <td>2.92688</td>\n",
       "    </tr>\n",
       "    <tr>\n",
       "      <th>std</th>\n",
       "      <td>1.307309e+07</td>\n",
       "      <td>0.000000e+00</td>\n",
       "      <td>9.707193e+07</td>\n",
       "      <td>453.421272</td>\n",
       "      <td>453.421272</td>\n",
       "      <td>28.535997</td>\n",
       "      <td>NaN</td>\n",
       "      <td>0.047461</td>\n",
       "      <td>0.046156</td>\n",
       "      <td>2.773606</td>\n",
       "      <td>...</td>\n",
       "      <td>0.217163</td>\n",
       "      <td>0.283717</td>\n",
       "      <td>0.288217</td>\n",
       "      <td>0.528825</td>\n",
       "      <td>NaN</td>\n",
       "      <td>13.600288</td>\n",
       "      <td>13.174306</td>\n",
       "      <td>2.524668</td>\n",
       "      <td>0.225194</td>\n",
       "      <td>2.28876</td>\n",
       "    </tr>\n",
       "    <tr>\n",
       "      <th>min</th>\n",
       "      <td>1.080610e+05</td>\n",
       "      <td>2.020122e+13</td>\n",
       "      <td>4.785900e+04</td>\n",
       "      <td>0.000000</td>\n",
       "      <td>0.000000</td>\n",
       "      <td>28704.000000</td>\n",
       "      <td>NaN</td>\n",
       "      <td>35.423420</td>\n",
       "      <td>-82.672870</td>\n",
       "      <td>1.000000</td>\n",
       "      <td>...</td>\n",
       "      <td>7.000000</td>\n",
       "      <td>6.000000</td>\n",
       "      <td>7.000000</td>\n",
       "      <td>4.000000</td>\n",
       "      <td>NaN</td>\n",
       "      <td>1.000000</td>\n",
       "      <td>0.000000</td>\n",
       "      <td>0.000000</td>\n",
       "      <td>0.000000</td>\n",
       "      <td>0.01000</td>\n",
       "    </tr>\n",
       "    <tr>\n",
       "      <th>25%</th>\n",
       "      <td>1.890829e+07</td>\n",
       "      <td>2.020122e+13</td>\n",
       "      <td>1.670082e+07</td>\n",
       "      <td>1.000000</td>\n",
       "      <td>1.000000</td>\n",
       "      <td>28801.000000</td>\n",
       "      <td>NaN</td>\n",
       "      <td>35.563857</td>\n",
       "      <td>-82.588305</td>\n",
       "      <td>2.000000</td>\n",
       "      <td>...</td>\n",
       "      <td>10.000000</td>\n",
       "      <td>10.000000</td>\n",
       "      <td>10.000000</td>\n",
       "      <td>10.000000</td>\n",
       "      <td>NaN</td>\n",
       "      <td>1.000000</td>\n",
       "      <td>1.000000</td>\n",
       "      <td>0.000000</td>\n",
       "      <td>0.000000</td>\n",
       "      <td>1.16000</td>\n",
       "    </tr>\n",
       "    <tr>\n",
       "      <th>50%</th>\n",
       "      <td>2.967947e+07</td>\n",
       "      <td>2.020122e+13</td>\n",
       "      <td>7.071439e+07</td>\n",
       "      <td>2.000000</td>\n",
       "      <td>2.000000</td>\n",
       "      <td>28804.000000</td>\n",
       "      <td>NaN</td>\n",
       "      <td>35.588955</td>\n",
       "      <td>-82.556335</td>\n",
       "      <td>4.000000</td>\n",
       "      <td>...</td>\n",
       "      <td>10.000000</td>\n",
       "      <td>10.000000</td>\n",
       "      <td>10.000000</td>\n",
       "      <td>10.000000</td>\n",
       "      <td>NaN</td>\n",
       "      <td>1.000000</td>\n",
       "      <td>1.000000</td>\n",
       "      <td>0.000000</td>\n",
       "      <td>0.000000</td>\n",
       "      <td>2.43000</td>\n",
       "    </tr>\n",
       "    <tr>\n",
       "      <th>75%</th>\n",
       "      <td>3.961068e+07</td>\n",
       "      <td>2.020122e+13</td>\n",
       "      <td>1.671862e+08</td>\n",
       "      <td>4.000000</td>\n",
       "      <td>4.000000</td>\n",
       "      <td>28806.000000</td>\n",
       "      <td>NaN</td>\n",
       "      <td>35.605280</td>\n",
       "      <td>-82.525453</td>\n",
       "      <td>6.000000</td>\n",
       "      <td>...</td>\n",
       "      <td>10.000000</td>\n",
       "      <td>10.000000</td>\n",
       "      <td>10.000000</td>\n",
       "      <td>10.000000</td>\n",
       "      <td>NaN</td>\n",
       "      <td>4.000000</td>\n",
       "      <td>3.000000</td>\n",
       "      <td>0.000000</td>\n",
       "      <td>0.000000</td>\n",
       "      <td>4.14000</td>\n",
       "    </tr>\n",
       "    <tr>\n",
       "      <th>max</th>\n",
       "      <td>4.709619e+07</td>\n",
       "      <td>2.020122e+13</td>\n",
       "      <td>3.804824e+08</td>\n",
       "      <td>3450.000000</td>\n",
       "      <td>3450.000000</td>\n",
       "      <td>28806.000000</td>\n",
       "      <td>NaN</td>\n",
       "      <td>35.655390</td>\n",
       "      <td>-82.459420</td>\n",
       "      <td>16.000000</td>\n",
       "      <td>...</td>\n",
       "      <td>10.000000</td>\n",
       "      <td>10.000000</td>\n",
       "      <td>10.000000</td>\n",
       "      <td>10.000000</td>\n",
       "      <td>NaN</td>\n",
       "      <td>68.000000</td>\n",
       "      <td>68.000000</td>\n",
       "      <td>17.000000</td>\n",
       "      <td>4.000000</td>\n",
       "      <td>13.67000</td>\n",
       "    </tr>\n",
       "  </tbody>\n",
       "</table>\n",
       "<p>8 rows × 42 columns</p>\n",
       "</div>"
      ],
      "text/plain": [
       "                 id     scrape_id       host_id  host_listings_count  \\\n",
       "count  2.258000e+03  2.258000e+03  2.258000e+03          2257.000000   \n",
       "mean   2.835357e+07  2.020122e+13  1.019268e+08            75.147098   \n",
       "std    1.307309e+07  0.000000e+00  9.707193e+07           453.421272   \n",
       "min    1.080610e+05  2.020122e+13  4.785900e+04             0.000000   \n",
       "25%    1.890829e+07  2.020122e+13  1.670082e+07             1.000000   \n",
       "50%    2.967947e+07  2.020122e+13  7.071439e+07             2.000000   \n",
       "75%    3.961068e+07  2.020122e+13  1.671862e+08             4.000000   \n",
       "max    4.709619e+07  2.020122e+13  3.804824e+08          3450.000000   \n",
       "\n",
       "       host_total_listings_count  neighbourhood_cleansed  \\\n",
       "count                2257.000000             2258.000000   \n",
       "mean                   75.147098            28793.913640   \n",
       "std                   453.421272               28.535997   \n",
       "min                     0.000000            28704.000000   \n",
       "25%                     1.000000            28801.000000   \n",
       "50%                     2.000000            28804.000000   \n",
       "75%                     4.000000            28806.000000   \n",
       "max                  3450.000000            28806.000000   \n",
       "\n",
       "       neighbourhood_group_cleansed     latitude    longitude  accommodates  \\\n",
       "count                           0.0  2258.000000  2258.000000   2258.000000   \n",
       "mean                            NaN    35.577524   -82.556568      4.239150   \n",
       "std                             NaN     0.047461     0.046156      2.773606   \n",
       "min                             NaN    35.423420   -82.672870      1.000000   \n",
       "25%                             NaN    35.563857   -82.588305      2.000000   \n",
       "50%                             NaN    35.588955   -82.556335      4.000000   \n",
       "75%                             NaN    35.605280   -82.525453      6.000000   \n",
       "max                             NaN    35.655390   -82.459420     16.000000   \n",
       "\n",
       "       ...  review_scores_checkin  review_scores_communication  \\\n",
       "count  ...            2045.000000                  2045.000000   \n",
       "mean   ...               9.964303                     9.943765   \n",
       "std    ...               0.217163                     0.283717   \n",
       "min    ...               7.000000                     6.000000   \n",
       "25%    ...              10.000000                    10.000000   \n",
       "50%    ...              10.000000                    10.000000   \n",
       "75%    ...              10.000000                    10.000000   \n",
       "max    ...              10.000000                    10.000000   \n",
       "\n",
       "       review_scores_location  review_scores_value  license  \\\n",
       "count             2045.000000          2045.000000      0.0   \n",
       "mean                 9.922738             9.731540      NaN   \n",
       "std                  0.288217             0.528825      NaN   \n",
       "min                  7.000000             4.000000      NaN   \n",
       "25%                 10.000000            10.000000      NaN   \n",
       "50%                 10.000000            10.000000      NaN   \n",
       "75%                 10.000000            10.000000      NaN   \n",
       "max                 10.000000            10.000000      NaN   \n",
       "\n",
       "       calculated_host_listings_count  \\\n",
       "count                     2258.000000   \n",
       "mean                         6.506643   \n",
       "std                         13.600288   \n",
       "min                          1.000000   \n",
       "25%                          1.000000   \n",
       "50%                          1.000000   \n",
       "75%                          4.000000   \n",
       "max                         68.000000   \n",
       "\n",
       "       calculated_host_listings_count_entire_homes  \\\n",
       "count                                  2258.000000   \n",
       "mean                                      5.671391   \n",
       "std                                      13.174306   \n",
       "min                                       0.000000   \n",
       "25%                                       1.000000   \n",
       "50%                                       1.000000   \n",
       "75%                                       3.000000   \n",
       "max                                      68.000000   \n",
       "\n",
       "       calculated_host_listings_count_private_rooms  \\\n",
       "count                                   2258.000000   \n",
       "mean                                       0.766608   \n",
       "std                                        2.524668   \n",
       "min                                        0.000000   \n",
       "25%                                        0.000000   \n",
       "50%                                        0.000000   \n",
       "75%                                        0.000000   \n",
       "max                                       17.000000   \n",
       "\n",
       "       calculated_host_listings_count_shared_rooms  reviews_per_month  \n",
       "count                                  2258.000000         2083.00000  \n",
       "mean                                      0.015500            2.92688  \n",
       "std                                       0.225194            2.28876  \n",
       "min                                       0.000000            0.01000  \n",
       "25%                                       0.000000            1.16000  \n",
       "50%                                       0.000000            2.43000  \n",
       "75%                                       0.000000            4.14000  \n",
       "max                                       4.000000           13.67000  \n",
       "\n",
       "[8 rows x 42 columns]"
      ]
     },
     "execution_count": 48,
     "metadata": {},
     "output_type": "execute_result"
    }
   ],
   "source": [
    "listings_full.describe()"
   ]
  },
  {
   "cell_type": "code",
   "execution_count": 49,
   "metadata": {},
   "outputs": [
    {
     "data": {
      "text/plain": [
       "Index(['id', 'listing_url', 'scrape_id', 'last_scraped', 'name', 'description',\n",
       "       'neighborhood_overview', 'picture_url', 'host_id', 'host_url',\n",
       "       'host_name', 'host_since', 'host_location', 'host_about',\n",
       "       'host_response_time', 'host_response_rate', 'host_acceptance_rate',\n",
       "       'host_is_superhost', 'host_thumbnail_url', 'host_picture_url',\n",
       "       'host_neighbourhood', 'host_listings_count',\n",
       "       'host_total_listings_count', 'host_verifications',\n",
       "       'host_has_profile_pic', 'host_identity_verified', 'neighbourhood',\n",
       "       'neighbourhood_cleansed', 'neighbourhood_group_cleansed', 'latitude',\n",
       "       'longitude', 'property_type', 'room_type', 'accommodates', 'bathrooms',\n",
       "       'bathrooms_text', 'bedrooms', 'beds', 'amenities', 'price',\n",
       "       'minimum_nights', 'maximum_nights', 'minimum_minimum_nights',\n",
       "       'maximum_minimum_nights', 'minimum_maximum_nights',\n",
       "       'maximum_maximum_nights', 'minimum_nights_avg_ntm',\n",
       "       'maximum_nights_avg_ntm', 'calendar_updated', 'has_availability',\n",
       "       'availability_30', 'availability_60', 'availability_90',\n",
       "       'availability_365', 'calendar_last_scraped', 'number_of_reviews',\n",
       "       'number_of_reviews_ltm', 'number_of_reviews_l30d', 'first_review',\n",
       "       'last_review', 'review_scores_rating', 'review_scores_accuracy',\n",
       "       'review_scores_cleanliness', 'review_scores_checkin',\n",
       "       'review_scores_communication', 'review_scores_location',\n",
       "       'review_scores_value', 'license', 'instant_bookable',\n",
       "       'calculated_host_listings_count',\n",
       "       'calculated_host_listings_count_entire_homes',\n",
       "       'calculated_host_listings_count_private_rooms',\n",
       "       'calculated_host_listings_count_shared_rooms', 'reviews_per_month'],\n",
       "      dtype='object')"
      ]
     },
     "execution_count": 49,
     "metadata": {},
     "output_type": "execute_result"
    }
   ],
   "source": [
    "listings_full.columns"
   ]
  },
  {
   "cell_type": "code",
   "execution_count": 50,
   "metadata": {},
   "outputs": [],
   "source": [
    "#here we have lot of features (74) in which we get object type, integer type and float type data."
   ]
  },
  {
   "cell_type": "markdown",
   "metadata": {},
   "source": [
    "## Listing data preparation"
   ]
  },
  {
   "cell_type": "code",
   "execution_count": 51,
   "metadata": {},
   "outputs": [
    {
     "data": {
      "text/plain": [
       "True"
      ]
     },
     "execution_count": 51,
     "metadata": {},
     "output_type": "execute_result"
    }
   ],
   "source": [
    "#checking for null values\n",
    "\n",
    "listings_full.isnull().sum().any()"
   ]
  },
  {
   "cell_type": "code",
   "execution_count": 52,
   "metadata": {},
   "outputs": [],
   "source": [
    "num_cols = [col for col in listings_full.columns if listings_full[col].dtypes in ['int64','float64']]"
   ]
  },
  {
   "cell_type": "code",
   "execution_count": 53,
   "metadata": {},
   "outputs": [],
   "source": [
    "cat_cols = [col for col in listings_full.columns if listings_full[col].dtypes == 'object']"
   ]
  },
  {
   "cell_type": "code",
   "execution_count": 54,
   "metadata": {},
   "outputs": [
    {
     "data": {
      "text/plain": [
       "['id',\n",
       " 'scrape_id',\n",
       " 'host_id',\n",
       " 'host_listings_count',\n",
       " 'host_total_listings_count',\n",
       " 'neighbourhood_cleansed',\n",
       " 'neighbourhood_group_cleansed',\n",
       " 'latitude',\n",
       " 'longitude',\n",
       " 'accommodates',\n",
       " 'bathrooms',\n",
       " 'bedrooms',\n",
       " 'beds',\n",
       " 'minimum_nights',\n",
       " 'maximum_nights',\n",
       " 'minimum_minimum_nights',\n",
       " 'maximum_minimum_nights',\n",
       " 'minimum_maximum_nights',\n",
       " 'maximum_maximum_nights',\n",
       " 'minimum_nights_avg_ntm',\n",
       " 'maximum_nights_avg_ntm',\n",
       " 'calendar_updated',\n",
       " 'availability_30',\n",
       " 'availability_60',\n",
       " 'availability_90',\n",
       " 'availability_365',\n",
       " 'number_of_reviews',\n",
       " 'number_of_reviews_ltm',\n",
       " 'number_of_reviews_l30d',\n",
       " 'review_scores_rating',\n",
       " 'review_scores_accuracy',\n",
       " 'review_scores_cleanliness',\n",
       " 'review_scores_checkin',\n",
       " 'review_scores_communication',\n",
       " 'review_scores_location',\n",
       " 'review_scores_value',\n",
       " 'license',\n",
       " 'calculated_host_listings_count',\n",
       " 'calculated_host_listings_count_entire_homes',\n",
       " 'calculated_host_listings_count_private_rooms',\n",
       " 'calculated_host_listings_count_shared_rooms',\n",
       " 'reviews_per_month']"
      ]
     },
     "execution_count": 54,
     "metadata": {},
     "output_type": "execute_result"
    }
   ],
   "source": [
    "num_cols"
   ]
  },
  {
   "cell_type": "code",
   "execution_count": 55,
   "metadata": {},
   "outputs": [
    {
     "data": {
      "text/plain": [
       "['listing_url',\n",
       " 'last_scraped',\n",
       " 'name',\n",
       " 'description',\n",
       " 'neighborhood_overview',\n",
       " 'picture_url',\n",
       " 'host_url',\n",
       " 'host_name',\n",
       " 'host_since',\n",
       " 'host_location',\n",
       " 'host_about',\n",
       " 'host_response_time',\n",
       " 'host_response_rate',\n",
       " 'host_acceptance_rate',\n",
       " 'host_is_superhost',\n",
       " 'host_thumbnail_url',\n",
       " 'host_picture_url',\n",
       " 'host_neighbourhood',\n",
       " 'host_verifications',\n",
       " 'host_has_profile_pic',\n",
       " 'host_identity_verified',\n",
       " 'neighbourhood',\n",
       " 'property_type',\n",
       " 'room_type',\n",
       " 'bathrooms_text',\n",
       " 'amenities',\n",
       " 'price',\n",
       " 'has_availability',\n",
       " 'calendar_last_scraped',\n",
       " 'first_review',\n",
       " 'last_review',\n",
       " 'instant_bookable']"
      ]
     },
     "execution_count": 55,
     "metadata": {},
     "output_type": "execute_result"
    }
   ],
   "source": [
    "cat_cols"
   ]
  },
  {
   "cell_type": "code",
   "execution_count": 56,
   "metadata": {},
   "outputs": [],
   "source": [
    "#droping unnecessary features\n",
    "\n",
    "col_drop =['id',\n",
    " 'scrape_id',\n",
    " 'host_id',\n",
    " 'host_listings_count',\n",
    " 'host_total_listings_count',\n",
    " 'latitude',\n",
    " 'longitude',\n",
    " 'minimum_minimum_nights',\n",
    " 'maximum_minimum_nights',\n",
    " 'minimum_maximum_nights',\n",
    " 'maximum_maximum_nights',\n",
    " 'minimum_nights_avg_ntm',\n",
    " 'maximum_nights_avg_ntm',        \n",
    " 'number_of_reviews_ltm',\n",
    " 'number_of_reviews_l30d',        \n",
    " 'reviews_per_month',        \n",
    " 'listing_url',\n",
    " 'last_scraped',\n",
    " 'name',\n",
    " 'picture_url',\n",
    " 'host_url',\n",
    " 'host_name',\n",
    " 'host_since',\n",
    " 'host_location',\n",
    " 'host_about',        \n",
    " 'host_thumbnail_url',\n",
    " 'host_picture_url',       \n",
    " 'host_has_profile_pic',       \n",
    " 'calendar_last_scraped',\n",
    " 'first_review',\n",
    " 'last_review',\n",
    " 'review_scores_rating',\n",
    " 'review_scores_accuracy',\n",
    " 'review_scores_cleanliness',\n",
    " 'review_scores_checkin',\n",
    " 'review_scores_communication',\n",
    " 'review_scores_location',\n",
    " 'calculated_host_listings_count',\n",
    " 'calculated_host_listings_count_entire_homes',\n",
    " 'calculated_host_listings_count_private_rooms',\n",
    " 'calculated_host_listings_count_shared_rooms',\n",
    " 'description',\n",
    " 'neighborhood_overview',\n",
    " 'host_verifications',\n",
    " 'property_type',       \n",
    " 'amenities',\n",
    " 'neighbourhood_group_cleansed',\n",
    " 'bathrooms',\n",
    " 'calendar_updated',\n",
    " 'license']\n",
    "\n",
    "listings_full.drop(col_drop, axis =1, inplace = True)"
   ]
  },
  {
   "cell_type": "code",
   "execution_count": 57,
   "metadata": {},
   "outputs": [],
   "source": [
    "num_cols = [col for col in listings_full.columns if listings_full[col].dtypes in ['int64','float64']]\n",
    "\n",
    "cat_cols = [col for col in listings_full.columns if listings_full[col].dtypes == 'object']"
   ]
  },
  {
   "cell_type": "code",
   "execution_count": 58,
   "metadata": {},
   "outputs": [
    {
     "data": {
      "text/plain": [
       "['neighbourhood_cleansed',\n",
       " 'accommodates',\n",
       " 'bedrooms',\n",
       " 'beds',\n",
       " 'minimum_nights',\n",
       " 'maximum_nights',\n",
       " 'availability_30',\n",
       " 'availability_60',\n",
       " 'availability_90',\n",
       " 'availability_365',\n",
       " 'number_of_reviews',\n",
       " 'review_scores_value']"
      ]
     },
     "execution_count": 58,
     "metadata": {},
     "output_type": "execute_result"
    }
   ],
   "source": [
    "num_cols"
   ]
  },
  {
   "cell_type": "code",
   "execution_count": 59,
   "metadata": {},
   "outputs": [
    {
     "data": {
      "text/html": [
       "<div>\n",
       "<style scoped>\n",
       "    .dataframe tbody tr th:only-of-type {\n",
       "        vertical-align: middle;\n",
       "    }\n",
       "\n",
       "    .dataframe tbody tr th {\n",
       "        vertical-align: top;\n",
       "    }\n",
       "\n",
       "    .dataframe thead th {\n",
       "        text-align: right;\n",
       "    }\n",
       "</style>\n",
       "<table border=\"1\" class=\"dataframe\">\n",
       "  <thead>\n",
       "    <tr style=\"text-align: right;\">\n",
       "      <th></th>\n",
       "      <th>neighbourhood_cleansed</th>\n",
       "      <th>accommodates</th>\n",
       "      <th>bedrooms</th>\n",
       "      <th>beds</th>\n",
       "      <th>minimum_nights</th>\n",
       "      <th>maximum_nights</th>\n",
       "      <th>availability_30</th>\n",
       "      <th>availability_60</th>\n",
       "      <th>availability_90</th>\n",
       "      <th>availability_365</th>\n",
       "      <th>number_of_reviews</th>\n",
       "      <th>review_scores_value</th>\n",
       "    </tr>\n",
       "  </thead>\n",
       "  <tbody>\n",
       "    <tr>\n",
       "      <th>0</th>\n",
       "      <td>28801</td>\n",
       "      <td>2</td>\n",
       "      <td>1.0</td>\n",
       "      <td>1.0</td>\n",
       "      <td>30</td>\n",
       "      <td>365</td>\n",
       "      <td>0</td>\n",
       "      <td>0</td>\n",
       "      <td>0</td>\n",
       "      <td>173</td>\n",
       "      <td>89</td>\n",
       "      <td>9.0</td>\n",
       "    </tr>\n",
       "    <tr>\n",
       "      <th>1</th>\n",
       "      <td>28806</td>\n",
       "      <td>2</td>\n",
       "      <td>1.0</td>\n",
       "      <td>1.0</td>\n",
       "      <td>1</td>\n",
       "      <td>31</td>\n",
       "      <td>24</td>\n",
       "      <td>54</td>\n",
       "      <td>84</td>\n",
       "      <td>352</td>\n",
       "      <td>279</td>\n",
       "      <td>10.0</td>\n",
       "    </tr>\n",
       "  </tbody>\n",
       "</table>\n",
       "</div>"
      ],
      "text/plain": [
       "   neighbourhood_cleansed  accommodates  bedrooms  beds  minimum_nights  \\\n",
       "0                   28801             2       1.0   1.0              30   \n",
       "1                   28806             2       1.0   1.0               1   \n",
       "\n",
       "   maximum_nights  availability_30  availability_60  availability_90  \\\n",
       "0             365                0                0                0   \n",
       "1              31               24               54               84   \n",
       "\n",
       "   availability_365  number_of_reviews  review_scores_value  \n",
       "0               173                 89                  9.0  \n",
       "1               352                279                 10.0  "
      ]
     },
     "execution_count": 59,
     "metadata": {},
     "output_type": "execute_result"
    }
   ],
   "source": [
    "listings_full[num_cols].head(2)"
   ]
  },
  {
   "cell_type": "code",
   "execution_count": 60,
   "metadata": {},
   "outputs": [
    {
     "data": {
      "text/plain": [
       "['host_response_time',\n",
       " 'host_response_rate',\n",
       " 'host_acceptance_rate',\n",
       " 'host_is_superhost',\n",
       " 'host_neighbourhood',\n",
       " 'host_identity_verified',\n",
       " 'neighbourhood',\n",
       " 'room_type',\n",
       " 'bathrooms_text',\n",
       " 'price',\n",
       " 'has_availability',\n",
       " 'instant_bookable']"
      ]
     },
     "execution_count": 60,
     "metadata": {},
     "output_type": "execute_result"
    }
   ],
   "source": [
    "cat_cols"
   ]
  },
  {
   "cell_type": "code",
   "execution_count": 61,
   "metadata": {},
   "outputs": [
    {
     "data": {
      "text/html": [
       "<div>\n",
       "<style scoped>\n",
       "    .dataframe tbody tr th:only-of-type {\n",
       "        vertical-align: middle;\n",
       "    }\n",
       "\n",
       "    .dataframe tbody tr th {\n",
       "        vertical-align: top;\n",
       "    }\n",
       "\n",
       "    .dataframe thead th {\n",
       "        text-align: right;\n",
       "    }\n",
       "</style>\n",
       "<table border=\"1\" class=\"dataframe\">\n",
       "  <thead>\n",
       "    <tr style=\"text-align: right;\">\n",
       "      <th></th>\n",
       "      <th>host_response_time</th>\n",
       "      <th>host_response_rate</th>\n",
       "      <th>host_acceptance_rate</th>\n",
       "      <th>host_is_superhost</th>\n",
       "      <th>host_neighbourhood</th>\n",
       "      <th>host_identity_verified</th>\n",
       "      <th>neighbourhood</th>\n",
       "      <th>room_type</th>\n",
       "      <th>bathrooms_text</th>\n",
       "      <th>price</th>\n",
       "      <th>has_availability</th>\n",
       "      <th>instant_bookable</th>\n",
       "    </tr>\n",
       "  </thead>\n",
       "  <tbody>\n",
       "    <tr>\n",
       "      <th>0</th>\n",
       "      <td>within a day</td>\n",
       "      <td>90%</td>\n",
       "      <td>25%</td>\n",
       "      <td>f</td>\n",
       "      <td>NaN</td>\n",
       "      <td>t</td>\n",
       "      <td>Asheville, North Carolina, United States</td>\n",
       "      <td>Entire home/apt</td>\n",
       "      <td>1 bath</td>\n",
       "      <td>$82.00</td>\n",
       "      <td>t</td>\n",
       "      <td>f</td>\n",
       "    </tr>\n",
       "    <tr>\n",
       "      <th>1</th>\n",
       "      <td>within an hour</td>\n",
       "      <td>100%</td>\n",
       "      <td>100%</td>\n",
       "      <td>t</td>\n",
       "      <td>NaN</td>\n",
       "      <td>t</td>\n",
       "      <td>Asheville, North Carolina, United States</td>\n",
       "      <td>Entire home/apt</td>\n",
       "      <td>1 bath</td>\n",
       "      <td>$90.00</td>\n",
       "      <td>t</td>\n",
       "      <td>t</td>\n",
       "    </tr>\n",
       "  </tbody>\n",
       "</table>\n",
       "</div>"
      ],
      "text/plain": [
       "  host_response_time host_response_rate host_acceptance_rate  \\\n",
       "0       within a day                90%                  25%   \n",
       "1     within an hour               100%                 100%   \n",
       "\n",
       "  host_is_superhost host_neighbourhood host_identity_verified  \\\n",
       "0                 f                NaN                      t   \n",
       "1                 t                NaN                      t   \n",
       "\n",
       "                              neighbourhood        room_type bathrooms_text  \\\n",
       "0  Asheville, North Carolina, United States  Entire home/apt         1 bath   \n",
       "1  Asheville, North Carolina, United States  Entire home/apt         1 bath   \n",
       "\n",
       "    price has_availability instant_bookable  \n",
       "0  $82.00                t                f  \n",
       "1  $90.00                t                t  "
      ]
     },
     "execution_count": 61,
     "metadata": {},
     "output_type": "execute_result"
    }
   ],
   "source": [
    "listings_full[cat_cols].head(2)"
   ]
  },
  {
   "cell_type": "code",
   "execution_count": 62,
   "metadata": {},
   "outputs": [
    {
     "data": {
      "text/plain": [
       "True"
      ]
     },
     "execution_count": 62,
     "metadata": {},
     "output_type": "execute_result"
    }
   ],
   "source": [
    "listings_full.isnull().sum().any()"
   ]
  },
  {
   "cell_type": "code",
   "execution_count": 63,
   "metadata": {},
   "outputs": [],
   "source": [
    "#handling null values"
   ]
  },
  {
   "cell_type": "code",
   "execution_count": 64,
   "metadata": {},
   "outputs": [],
   "source": [
    "for col in cat_cols:\n",
    "    \n",
    "    listings_full[col] = listings_full[col].fillna(listings_full[col].mode()[0])"
   ]
  },
  {
   "cell_type": "code",
   "execution_count": 65,
   "metadata": {},
   "outputs": [],
   "source": [
    "for col in num_cols:\n",
    "    \n",
    "    listings_full[col] = listings_full[col].fillna(listings_full[col].mean())"
   ]
  },
  {
   "cell_type": "code",
   "execution_count": 66,
   "metadata": {},
   "outputs": [
    {
     "data": {
      "text/plain": [
       "False"
      ]
     },
     "execution_count": 66,
     "metadata": {},
     "output_type": "execute_result"
    }
   ],
   "source": [
    "listings_full.isnull().sum().any()"
   ]
  },
  {
   "cell_type": "code",
   "execution_count": 67,
   "metadata": {},
   "outputs": [
    {
     "data": {
      "text/plain": [
       "(2258, 24)"
      ]
     },
     "execution_count": 67,
     "metadata": {},
     "output_type": "execute_result"
    }
   ],
   "source": [
    "listings_full.shape"
   ]
  },
  {
   "cell_type": "code",
   "execution_count": 68,
   "metadata": {},
   "outputs": [
    {
     "data": {
      "text/html": [
       "<div>\n",
       "<style scoped>\n",
       "    .dataframe tbody tr th:only-of-type {\n",
       "        vertical-align: middle;\n",
       "    }\n",
       "\n",
       "    .dataframe tbody tr th {\n",
       "        vertical-align: top;\n",
       "    }\n",
       "\n",
       "    .dataframe thead th {\n",
       "        text-align: right;\n",
       "    }\n",
       "</style>\n",
       "<table border=\"1\" class=\"dataframe\">\n",
       "  <thead>\n",
       "    <tr style=\"text-align: right;\">\n",
       "      <th></th>\n",
       "      <th>host_response_time</th>\n",
       "      <th>host_response_rate</th>\n",
       "      <th>host_acceptance_rate</th>\n",
       "      <th>host_is_superhost</th>\n",
       "      <th>host_neighbourhood</th>\n",
       "      <th>host_identity_verified</th>\n",
       "      <th>neighbourhood</th>\n",
       "      <th>neighbourhood_cleansed</th>\n",
       "      <th>room_type</th>\n",
       "      <th>accommodates</th>\n",
       "      <th>...</th>\n",
       "      <th>minimum_nights</th>\n",
       "      <th>maximum_nights</th>\n",
       "      <th>has_availability</th>\n",
       "      <th>availability_30</th>\n",
       "      <th>availability_60</th>\n",
       "      <th>availability_90</th>\n",
       "      <th>availability_365</th>\n",
       "      <th>number_of_reviews</th>\n",
       "      <th>review_scores_value</th>\n",
       "      <th>instant_bookable</th>\n",
       "    </tr>\n",
       "  </thead>\n",
       "  <tbody>\n",
       "    <tr>\n",
       "      <th>0</th>\n",
       "      <td>within a day</td>\n",
       "      <td>90%</td>\n",
       "      <td>25%</td>\n",
       "      <td>f</td>\n",
       "      <td>South Slope Brewing District</td>\n",
       "      <td>t</td>\n",
       "      <td>Asheville, North Carolina, United States</td>\n",
       "      <td>28801</td>\n",
       "      <td>Entire home/apt</td>\n",
       "      <td>2</td>\n",
       "      <td>...</td>\n",
       "      <td>30</td>\n",
       "      <td>365</td>\n",
       "      <td>t</td>\n",
       "      <td>0</td>\n",
       "      <td>0</td>\n",
       "      <td>0</td>\n",
       "      <td>173</td>\n",
       "      <td>89</td>\n",
       "      <td>9.0</td>\n",
       "      <td>f</td>\n",
       "    </tr>\n",
       "    <tr>\n",
       "      <th>1</th>\n",
       "      <td>within an hour</td>\n",
       "      <td>100%</td>\n",
       "      <td>100%</td>\n",
       "      <td>t</td>\n",
       "      <td>South Slope Brewing District</td>\n",
       "      <td>t</td>\n",
       "      <td>Asheville, North Carolina, United States</td>\n",
       "      <td>28806</td>\n",
       "      <td>Entire home/apt</td>\n",
       "      <td>2</td>\n",
       "      <td>...</td>\n",
       "      <td>1</td>\n",
       "      <td>31</td>\n",
       "      <td>t</td>\n",
       "      <td>24</td>\n",
       "      <td>54</td>\n",
       "      <td>84</td>\n",
       "      <td>352</td>\n",
       "      <td>279</td>\n",
       "      <td>10.0</td>\n",
       "      <td>t</td>\n",
       "    </tr>\n",
       "  </tbody>\n",
       "</table>\n",
       "<p>2 rows × 24 columns</p>\n",
       "</div>"
      ],
      "text/plain": [
       "  host_response_time host_response_rate host_acceptance_rate  \\\n",
       "0       within a day                90%                  25%   \n",
       "1     within an hour               100%                 100%   \n",
       "\n",
       "  host_is_superhost            host_neighbourhood host_identity_verified  \\\n",
       "0                 f  South Slope Brewing District                      t   \n",
       "1                 t  South Slope Brewing District                      t   \n",
       "\n",
       "                              neighbourhood  neighbourhood_cleansed  \\\n",
       "0  Asheville, North Carolina, United States                   28801   \n",
       "1  Asheville, North Carolina, United States                   28806   \n",
       "\n",
       "         room_type  accommodates  ... minimum_nights  maximum_nights  \\\n",
       "0  Entire home/apt             2  ...             30             365   \n",
       "1  Entire home/apt             2  ...              1              31   \n",
       "\n",
       "   has_availability availability_30  availability_60  availability_90  \\\n",
       "0                 t               0                0                0   \n",
       "1                 t              24               54               84   \n",
       "\n",
       "  availability_365  number_of_reviews  review_scores_value  instant_bookable  \n",
       "0              173                 89                  9.0                 f  \n",
       "1              352                279                 10.0                 t  \n",
       "\n",
       "[2 rows x 24 columns]"
      ]
     },
     "execution_count": 68,
     "metadata": {},
     "output_type": "execute_result"
    }
   ],
   "source": [
    "listings_full.head(2)"
   ]
  },
  {
   "cell_type": "code",
   "execution_count": 69,
   "metadata": {},
   "outputs": [
    {
     "name": "stdout",
     "output_type": "stream",
     "text": [
      "host_response_time\n",
      "within an hour        1945\n",
      "within a few hours     185\n",
      "within a day           110\n",
      "a few days or more      18\n",
      "Name: host_response_time, dtype: int64\n",
      "______________________________________________________________________\n",
      "host_response_rate\n",
      "100%    2060\n",
      "97%       41\n",
      "90%       40\n",
      "0%        13\n",
      "95%       11\n",
      "80%        9\n",
      "98%        8\n",
      "70%        7\n",
      "88%        6\n",
      "86%        6\n",
      "93%        6\n",
      "96%        5\n",
      "50%        5\n",
      "83%        5\n",
      "60%        4\n",
      "75%        4\n",
      "62%        4\n",
      "89%        4\n",
      "94%        3\n",
      "67%        3\n",
      "92%        3\n",
      "91%        2\n",
      "11%        2\n",
      "73%        2\n",
      "33%        1\n",
      "38%        1\n",
      "64%        1\n",
      "63%        1\n",
      "78%        1\n",
      "Name: host_response_rate, dtype: int64\n",
      "______________________________________________________________________\n",
      "host_acceptance_rate\n",
      "100%    1141\n",
      "99%      283\n",
      "98%      164\n",
      "97%      100\n",
      "96%       60\n",
      "95%       51\n",
      "94%       45\n",
      "93%       33\n",
      "88%       29\n",
      "86%       28\n",
      "92%       26\n",
      "90%       25\n",
      "91%       24\n",
      "89%       20\n",
      "83%       20\n",
      "0%        19\n",
      "77%       18\n",
      "85%       16\n",
      "50%       16\n",
      "75%       14\n",
      "80%       14\n",
      "67%       13\n",
      "71%       10\n",
      "87%        8\n",
      "82%        8\n",
      "33%        7\n",
      "40%        7\n",
      "79%        6\n",
      "25%        5\n",
      "78%        5\n",
      "81%        4\n",
      "76%        4\n",
      "70%        4\n",
      "68%        4\n",
      "60%        4\n",
      "84%        3\n",
      "20%        3\n",
      "63%        2\n",
      "14%        2\n",
      "57%        2\n",
      "58%        2\n",
      "56%        1\n",
      "11%        1\n",
      "73%        1\n",
      "12%        1\n",
      "74%        1\n",
      "31%        1\n",
      "69%        1\n",
      "61%        1\n",
      "42%        1\n",
      "Name: host_acceptance_rate, dtype: int64\n",
      "______________________________________________________________________\n",
      "host_is_superhost\n",
      "t    1536\n",
      "f     722\n",
      "Name: host_is_superhost, dtype: int64\n",
      "______________________________________________________________________\n",
      "host_neighbourhood\n",
      "South Slope Brewing District       1986\n",
      "LB of Harrow                         39\n",
      "Center Pigeon                        29\n",
      "Montford Area Historic District      23\n",
      "Oakley                               23\n",
      "Umstead                              21\n",
      "Downtown                             13\n",
      "Bear Creek                           12\n",
      "East End - Valley Street             10\n",
      "Kenilworth                            8\n",
      "Falconhurst                           8\n",
      "Five Points                           8\n",
      "Westwood Place                        7\n",
      "Haw Creek                             7\n",
      "West Asheville Estates                6\n",
      "Cannonborough Elliotborough           4\n",
      "Chestnut Hills                        4\n",
      "Enka                                  4\n",
      "Racquet Club Village                  4\n",
      "Edgehill                              3\n",
      "Old City                              3\n",
      "Burton Street                         3\n",
      "Grove Park- Sunset                    3\n",
      "River Arts District                   3\n",
      "Parkway Forest                        2\n",
      "Shiloh                                2\n",
      "Charlotte Street                      2\n",
      "Beverly Hills                         2\n",
      "Jackson Park                          2\n",
      "Morningside Park                      2\n",
      "Leith                                 2\n",
      "Bouldin Creek                         1\n",
      "City of Marco                         1\n",
      "Park Slope                            1\n",
      "Historic District                     1\n",
      "West Asheville                        1\n",
      "United Central                        1\n",
      "Brentwood                             1\n",
      "Mueller                               1\n",
      "Grace                                 1\n",
      "James Island                          1\n",
      "Upper Boggy Creek                     1\n",
      "North Beach                           1\n",
      "Raleigh View                          1\n",
      "Name: host_neighbourhood, dtype: int64\n",
      "______________________________________________________________________\n",
      "host_identity_verified\n",
      "t    1685\n",
      "f     573\n",
      "Name: host_identity_verified, dtype: int64\n",
      "______________________________________________________________________\n",
      "neighbourhood\n",
      "Asheville, North Carolina, United States           2008\n",
      "Arden, North Carolina, United States                106\n",
      "Woodfin, North Carolina, United States               50\n",
      "Fletcher, North Carolina, United States              40\n",
      "Candler, North Carolina, United States               39\n",
      "Asheville , North Carolina, United States             4\n",
      "Leicester, North Carolina, United States              2\n",
      "Avery Creek, North Carolina, United States            2\n",
      "Limestone, North Carolina, United States              2\n",
      "Ashville, North Carolina, United States               1\n",
      "Biltmore Forest, North Carolina, United States        1\n",
      "Arden/Asheville , North Carolina, United States       1\n",
      "Fairview, North Carolina, United States               1\n",
      "Arden, Ashville, North Carolina, United States        1\n",
      "Name: neighbourhood, dtype: int64\n",
      "______________________________________________________________________\n",
      "neighbourhood_cleansed\n",
      "28806    619\n",
      "28801    567\n",
      "28803    315\n",
      "28804    267\n",
      "28805    246\n",
      "28704    136\n",
      "28732     57\n",
      "28715     51\n",
      "Name: neighbourhood_cleansed, dtype: int64\n",
      "______________________________________________________________________\n",
      "room_type\n",
      "Entire home/apt    1821\n",
      "Private room        410\n",
      "Hotel room           19\n",
      "Shared room           8\n",
      "Name: room_type, dtype: int64\n",
      "______________________________________________________________________\n",
      "accommodates\n",
      "2     820\n",
      "4     576\n",
      "6     271\n",
      "3     162\n",
      "8     126\n",
      "5      83\n",
      "10     46\n",
      "7      44\n",
      "1      30\n",
      "12     27\n",
      "16     26\n",
      "14     14\n",
      "9      13\n",
      "11     11\n",
      "13      7\n",
      "15      2\n",
      "Name: accommodates, dtype: int64\n",
      "______________________________________________________________________\n",
      "bathrooms_text\n",
      "1 bath               1205\n",
      "2 baths               388\n",
      "1 private bath        226\n",
      "1.5 baths              91\n",
      "1 shared bath          86\n",
      "3 baths                73\n",
      "2.5 baths              71\n",
      "3.5 baths              27\n",
      "4 baths                24\n",
      "1.5 shared baths       17\n",
      "2 shared baths         13\n",
      "4.5 baths              10\n",
      "Half-bath               5\n",
      "2.5 shared baths        5\n",
      "0 baths                 4\n",
      "5 baths                 4\n",
      "Private half-bath       2\n",
      "6 baths                 2\n",
      "6.5 baths               2\n",
      "7 baths                 1\n",
      "5.5 baths               1\n",
      "0 shared baths          1\n",
      "Name: bathrooms_text, dtype: int64\n",
      "______________________________________________________________________\n",
      "bedrooms\n",
      "1.000000     1116\n",
      "2.000000      523\n",
      "3.000000      283\n",
      "1.788258      180\n",
      "4.000000      110\n",
      "5.000000       23\n",
      "6.000000       17\n",
      "7.000000        4\n",
      "12.000000       1\n",
      "8.000000        1\n",
      "Name: bedrooms, dtype: int64\n",
      "______________________________________________________________________\n",
      "beds\n",
      "1.000000     902\n",
      "2.000000     638\n",
      "3.000000     312\n",
      "4.000000     164\n",
      "5.000000      77\n",
      "6.000000      58\n",
      "0.000000      41\n",
      "7.000000      24\n",
      "8.000000      14\n",
      "9.000000      10\n",
      "11.000000      5\n",
      "2.243459       3\n",
      "10.000000      3\n",
      "12.000000      2\n",
      "15.000000      1\n",
      "14.000000      1\n",
      "13.000000      1\n",
      "18.000000      1\n",
      "17.000000      1\n",
      "Name: beds, dtype: int64\n",
      "______________________________________________________________________\n",
      "price\n",
      "$75.00     52\n",
      "$95.00     33\n",
      "$120.00    33\n",
      "$100.00    32\n",
      "$80.00     30\n",
      "           ..\n",
      "$402.00     1\n",
      "$260.00     1\n",
      "$508.00     1\n",
      "$505.00     1\n",
      "$296.00     1\n",
      "Name: price, Length: 414, dtype: int64\n",
      "______________________________________________________________________\n",
      "minimum_nights\n",
      "2      979\n",
      "1      783\n",
      "3      223\n",
      "30     167\n",
      "4       24\n",
      "28      20\n",
      "7        9\n",
      "5        9\n",
      "29       8\n",
      "14       6\n",
      "60       5\n",
      "6        4\n",
      "21       4\n",
      "20       3\n",
      "90       3\n",
      "26       2\n",
      "45       2\n",
      "31       2\n",
      "180      1\n",
      "10       1\n",
      "25       1\n",
      "27       1\n",
      "120      1\n",
      "Name: minimum_nights, dtype: int64\n",
      "______________________________________________________________________\n",
      "maximum_nights\n",
      "1125    931\n",
      "365     220\n",
      "30      205\n",
      "7       129\n",
      "14      109\n",
      "       ... \n",
      "800       1\n",
      "17        1\n",
      "125       1\n",
      "185       1\n",
      "26        1\n",
      "Name: maximum_nights, Length: 61, dtype: int64\n",
      "______________________________________________________________________\n",
      "has_availability\n",
      "t    2256\n",
      "f       2\n",
      "Name: has_availability, dtype: int64\n",
      "______________________________________________________________________\n",
      "availability_30\n",
      "0     644\n",
      "16    126\n",
      "18    124\n",
      "17    101\n",
      "19     99\n",
      "15     92\n",
      "14     87\n",
      "13     76\n",
      "21     72\n",
      "20     68\n",
      "12     66\n",
      "11     52\n",
      "1      51\n",
      "2      47\n",
      "10     46\n",
      "7      43\n",
      "8      42\n",
      "4      41\n",
      "5      40\n",
      "22     38\n",
      "6      38\n",
      "3      37\n",
      "30     32\n",
      "23     32\n",
      "24     30\n",
      "9      30\n",
      "28     27\n",
      "25     24\n",
      "29     21\n",
      "26     16\n",
      "27     16\n",
      "Name: availability_30, dtype: int64\n",
      "______________________________________________________________________\n",
      "availability_60\n",
      "0     531\n",
      "46    114\n",
      "48    106\n",
      "49     87\n",
      "45     77\n",
      "     ... \n",
      "21     11\n",
      "8       9\n",
      "15      8\n",
      "9       8\n",
      "13      8\n",
      "Name: availability_60, Length: 61, dtype: int64\n",
      "______________________________________________________________________\n",
      "availability_90\n",
      "0     457\n",
      "76    106\n",
      "78     93\n",
      "79     81\n",
      "75     76\n",
      "     ... \n",
      "10      5\n",
      "31      4\n",
      "13      4\n",
      "9       2\n",
      "38      2\n",
      "Name: availability_90, Length: 91, dtype: int64\n",
      "______________________________________________________________________\n",
      "availability_365\n",
      "0      365\n",
      "353     38\n",
      "352     34\n",
      "351     33\n",
      "350     33\n",
      "      ... \n",
      "276      1\n",
      "213      1\n",
      "273      1\n",
      "267      1\n",
      "181      1\n",
      "Name: availability_365, Length: 334, dtype: int64\n",
      "______________________________________________________________________\n",
      "number_of_reviews\n",
      "0      175\n",
      "1       73\n",
      "3       55\n",
      "2       44\n",
      "5       39\n",
      "      ... \n",
      "386      1\n",
      "380      1\n",
      "372      1\n",
      "370      1\n",
      "993      1\n",
      "Name: number_of_reviews, Length: 344, dtype: int64\n",
      "______________________________________________________________________\n",
      "review_scores_value\n",
      "10.00000    1554\n",
      "9.00000      448\n",
      "9.73154      213\n",
      "8.00000       36\n",
      "6.00000        3\n",
      "7.00000        2\n",
      "5.00000        1\n",
      "4.00000        1\n",
      "Name: review_scores_value, dtype: int64\n",
      "______________________________________________________________________\n",
      "instant_bookable\n",
      "t    1350\n",
      "f     908\n",
      "Name: instant_bookable, dtype: int64\n",
      "______________________________________________________________________\n"
     ]
    }
   ],
   "source": [
    "for col in listings_full.columns:\n",
    "    \n",
    "    print(col)\n",
    "    \n",
    "    print(listings_full[col].value_counts())\n",
    "    \n",
    "    print(\"_\"*70)"
   ]
  },
  {
   "cell_type": "code",
   "execution_count": 70,
   "metadata": {},
   "outputs": [],
   "source": [
    "#cleaning price features\n",
    "\n",
    "listings_full[\"price\"] = listings_full[\"price\"].str.replace(\"$\",\"\")\n",
    "\n",
    "listings_full[\"price\"] = listings_full[\"price\"].str.replace(\",\",\"\")\n",
    "\n",
    "listings_full[\"price\"] = listings_full[\"price\"].astype(\"float64\")"
   ]
  },
  {
   "cell_type": "code",
   "execution_count": 71,
   "metadata": {},
   "outputs": [],
   "source": [
    "#Question 2"
   ]
  },
  {
   "cell_type": "markdown",
   "metadata": {},
   "source": [
    "## Question 2. Does instant bookable feature impact price ?"
   ]
  },
  {
   "cell_type": "code",
   "execution_count": 72,
   "metadata": {},
   "outputs": [],
   "source": [
    "inst_price = listings_full.groupby(listings_full['instant_bookable'])['price'].mean()"
   ]
  },
  {
   "cell_type": "code",
   "execution_count": 73,
   "metadata": {},
   "outputs": [
    {
     "data": {
      "text/plain": [
       "instant_bookable\n",
       "f    145.093612\n",
       "t    191.096296\n",
       "Name: price, dtype: float64"
      ]
     },
     "execution_count": 73,
     "metadata": {},
     "output_type": "execute_result"
    }
   ],
   "source": [
    "inst_price"
   ]
  },
  {
   "cell_type": "code",
   "execution_count": 74,
   "metadata": {},
   "outputs": [],
   "source": [
    "#Answer 2"
   ]
  },
  {
   "cell_type": "markdown",
   "metadata": {},
   "source": [
    "*Answer 2. Price is high for rooms which is instant bookable with significant difference with rooms which is not instant bookable.*"
   ]
  },
  {
   "cell_type": "code",
   "execution_count": 75,
   "metadata": {},
   "outputs": [
    {
     "data": {
      "text/plain": [
       "Text(0.5, 1.0, 'Instant bookable feature vs price')"
      ]
     },
     "execution_count": 75,
     "metadata": {},
     "output_type": "execute_result"
    },
    {
     "data": {
      "image/png": "[encoded data removed]",
      "text/plain": [
       "<Figure size 720x360 with 1 Axes>"
      ]
     },
     "metadata": {},
     "output_type": "display_data"
    }
   ],
   "source": [
    "ax = inst_price.plot.bar(figsize = (10,5), colormap = \"cool\")\n",
    "\n",
    "ax.set_ylabel(\"average price\")\n",
    "\n",
    "ax.set_title(\"Instant bookable feature vs price\")"
   ]
  },
  {
   "cell_type": "code",
   "execution_count": 76,
   "metadata": {},
   "outputs": [],
   "source": [
    "#Question 3"
   ]
  },
  {
   "cell_type": "markdown",
   "metadata": {},
   "source": [
    "## Question 3. Which room type costs more ?"
   ]
  },
  {
   "cell_type": "code",
   "execution_count": 77,
   "metadata": {},
   "outputs": [
    {
     "data": {
      "text/plain": [
       "Text(0.5, 1.0, 'Room type vs price')"
      ]
     },
     "execution_count": 77,
     "metadata": {},
     "output_type": "execute_result"
    },
    {
     "data": {
      "image/png": "[encoded data removed]",
      "text/plain": [
       "<Figure size 720x360 with 1 Axes>"
      ]
     },
     "metadata": {},
     "output_type": "display_data"
    }
   ],
   "source": [
    "roomtype_price = listings_full.groupby(listings_full['room_type'])['price'].mean()\n",
    "\n",
    "ax = roomtype_price.plot.bar(figsize = (10,5), colormap = \"Pastel1\")\n",
    "\n",
    "ax.set_ylabel(\"average price\")\n",
    "\n",
    "ax.set_title(\"Room type vs price\")"
   ]
  },
  {
   "cell_type": "code",
   "execution_count": 78,
   "metadata": {},
   "outputs": [],
   "source": [
    "#Answer 3"
   ]
  },
  {
   "cell_type": "markdown",
   "metadata": {},
   "source": [
    "*Answer 3. hotel room costs more, next is entire home/apartment and next is private room.AMong all shared room costs low* "
   ]
  },
  {
   "cell_type": "code",
   "execution_count": 79,
   "metadata": {},
   "outputs": [],
   "source": [
    "#Additional question."
   ]
  },
  {
   "cell_type": "markdown",
   "metadata": {},
   "source": [
    "## Question . How average price varies with reviews ?"
   ]
  },
  {
   "cell_type": "code",
   "execution_count": 80,
   "metadata": {},
   "outputs": [],
   "source": [
    "price_score = listings_full.groupby(listings_full['review_scores_value'])['price'].mean()"
   ]
  },
  {
   "cell_type": "code",
   "execution_count": 81,
   "metadata": {},
   "outputs": [],
   "source": [
    "price_data = price_score.to_frame()\n",
    "\n",
    "price_data.reset_index(level= price_data.index.names, inplace=True)"
   ]
  },
  {
   "cell_type": "code",
   "execution_count": 82,
   "metadata": {},
   "outputs": [
    {
     "data": {
      "image/png": "[encoded data removed]",
      "text/plain": [
       "<Figure size 1440x1080 with 1 Axes>"
      ]
     },
     "metadata": {},
     "output_type": "display_data"
    }
   ],
   "source": [
    "fig, ax = plt.subplots(figsize = (20,15))\n",
    "\n",
    "ax.plot(price_data[\"review_scores_value\"], price_data[\"price\"], marker = 'o', linestyle = '--', color = 'g')\n",
    "\n",
    "ax.set_xlabel(\"review_scores_value\")\n",
    "\n",
    "ax.set_ylabel(\"price\")\n",
    "\n",
    "ax.set_title(\"Average price and review score \")\n",
    "\n",
    "plt.show()"
   ]
  },
  {
   "cell_type": "code",
   "execution_count": 83,
   "metadata": {},
   "outputs": [],
   "source": [
    "#Answer."
   ]
  },
  {
   "cell_type": "markdown",
   "metadata": {},
   "source": [
    "*Answer . Rooms with review score of 7 has high average price while review score of 6 has low price.*"
   ]
  },
  {
   "cell_type": "code",
   "execution_count": null,
   "metadata": {},
   "outputs": [],
   "source": []
  }
 ],
 "metadata": {
  "kernelspec": {
   "display_name": "Python 3",
   "language": "python",
   "name": "python3"
  },
  "language_info": {
   "codemirror_mode": {
    "name": "ipython",
    "version": 3
   },
   "file_extension": ".py",
   "mimetype": "text/x-python",
   "name": "python",
   "nbconvert_exporter": "python",
   "pygments_lexer": "ipython3",
   "version": "3.6.9"
  }
 },
 "nbformat": 4,
 "nbformat_minor": 4
}
